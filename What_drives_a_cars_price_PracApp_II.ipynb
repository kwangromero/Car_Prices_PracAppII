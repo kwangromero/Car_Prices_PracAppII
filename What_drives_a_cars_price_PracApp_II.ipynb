{
 "cells": [
  {
   "cell_type": "markdown",
   "metadata": {},
   "source": [
    "# What drives the price of a car?\n",
    "\n",
    "![](images/kurt.jpeg)"
   ]
  },
  {
   "cell_type": "markdown",
   "metadata": {},
   "source": [
    "**OVERVIEW**\n",
    "\n",
    "In this application, you will explore a dataset from kaggle that contains information on 3 million used cars.  Your goal is to understand what factors make a car more or less expensive.  As a result of your analysis, you should provide clear recommendations to your client -- a used car dealership -- as to what consumers value in a used car."
   ]
  },
  {
   "cell_type": "markdown",
   "metadata": {},
   "source": [
    "### CRISP-DM Framework\n",
    "\n",
    "<center>\n",
    "    <img src = images/crisp.png width = 50%/>\n",
    "</center>\n",
    "\n",
    "\n",
    "To frame the task, throughout our practical applications we will refer back to a standard process in industry for data projects called CRISP-DM.  This process provides a framework for working through a data problem.  Your first step in this application will be to read through a brief overview of CRISP-DM [here](https://mo-pcco.s3.us-east-1.amazonaws.com/BH-PCMLAI/module_11/readings_starter.zip).  After reading the overview, answer the questions below."
   ]
  },
  {
   "cell_type": "markdown",
   "metadata": {},
   "source": [
    "### 1) Business Understanding\n",
    "\n",
    "**From a business perspective, we are tasked with identifying key drivers for used car prices.  In the CRISP-DM overview, we are asked to convert this business framing to a data problem definition.  Using a few sentences, reframe the task as a data task with the appropriate technical vocabulary.**"
   ]
  },
  {
   "cell_type": "markdown",
   "metadata": {},
   "source": [
    "When it comes to selling a used car, the most important question is: How much should the car be sold for? This question depends on many factors. For example, certainly a new Lexus is more expensive than a new Toyota. But what if a used Lexus has an odometer reading of 100,000 miles? Would it still be worth more than a Toyota with only 1000 miles on its odometer? \n",
    "\n",
    "As we can see, a car's selling price is based off of many different factors. Therefore, some important data about the car that needs to be collected may include: year, manufacturer, model, cylinders, fuel type, transmission, drive, car type, paint color, condition, title status, state/region car is issued in.\n",
    "\n",
    "The main question we are then trying to answer is:\n",
    "**Which of the above features are the most important in determining a used car's price?**"
   ]
  },
  {
   "cell_type": "markdown",
   "metadata": {},
   "source": [
    "### 2) Data Understanding\n",
    "\n",
    "**After considering the business understanding, we want to get familiar with our data.  Write down some steps that you would take to get to know the dataset and identify any quality issues within.  Take time to get to know the dataset and explore what information it contains and how this could be used to inform your business understanding.**"
   ]
  },
  {
   "cell_type": "markdown",
   "metadata": {},
   "source": [
    "### Steps taken to understand data:\n",
    "\n",
    "**Section 2.1:** Import Libraries\n",
    "\n",
    "**Section 2.2:** Load dataset\n",
    "\n",
    "**Section 2.3:** Explore dataset by...\n",
    "\n",
    "- **Section 2.3.1:** examining the output after using .info() attribute on dataset\n",
    "\n",
    "- **Section 2.3.2:** Visualize number of null values per column in bar graph "
   ]
  },
  {
   "cell_type": "markdown",
   "metadata": {},
   "source": [
    "### 2.1) Import Libraries"
   ]
  },
  {
   "cell_type": "code",
   "execution_count": 1,
   "metadata": {},
   "outputs": [],
   "source": [
    "import plotly.express as px\n",
    "import numpy as np\n",
    "from numpy import asarray\n",
    "import plotly.graph_objects as go\n",
    "import matplotlib.pyplot as plt\n",
    "import pandas as pd\n",
    "import seaborn as sns \n",
    "\n",
    "from sklearn.datasets import fetch_openml\n",
    "from sklearn.linear_model import LinearRegression, Ridge, Lasso, HuberRegressor\n",
    "from sklearn.preprocessing import StandardScaler, PolynomialFeatures, OneHotEncoder, OrdinalEncoder\n",
    "from sklearn.pipeline import Pipeline\n",
    "from sklearn.feature_selection import SequentialFeatureSelector, SelectFromModel, RFE\n",
    "from sklearn.linear_model import Lasso\n",
    "from sklearn.compose import make_column_transformer, TransformedTargetRegressor\n",
    "from sklearn.inspection import permutation_importance\n",
    "from sklearn.metrics import mean_squared_error, r2_score\n",
    "from sklearn.model_selection import train_test_split, GridSearchCV\n",
    "from sklearn import set_config\n",
    "set_config(display=\"diagram\")\n",
    "from sklearn.inspection import permutation_importance\n",
    "from statsmodels.stats.outliers_influence import variance_inflation_factor\n",
    "import category_encoders as ce"
   ]
  },
  {
   "cell_type": "markdown",
   "metadata": {},
   "source": [
    "### 2.2) Load dataset"
   ]
  },
  {
   "cell_type": "code",
   "execution_count": 2,
   "metadata": {},
   "outputs": [],
   "source": [
    "vehicles = pd.read_csv('data/vehicles.csv')"
   ]
  },
  {
   "cell_type": "markdown",
   "metadata": {},
   "source": [
    "### 2.3) Exploring dataset"
   ]
  },
  {
   "cell_type": "markdown",
   "metadata": {},
   "source": [
    "**2.3.1)** Explore what columns are included in the dataset to help determine car prices and determine the datatypes of each column as well as the number of entries in the dataset"
   ]
  },
  {
   "cell_type": "code",
   "execution_count": 3,
   "metadata": {},
   "outputs": [
    {
     "name": "stdout",
     "output_type": "stream",
     "text": [
      "<class 'pandas.core.frame.DataFrame'>\n",
      "RangeIndex: 426880 entries, 0 to 426879\n",
      "Data columns (total 18 columns):\n",
      " #   Column        Non-Null Count   Dtype  \n",
      "---  ------        --------------   -----  \n",
      " 0   id            426880 non-null  int64  \n",
      " 1   region        426880 non-null  object \n",
      " 2   price         426880 non-null  int64  \n",
      " 3   year          425675 non-null  float64\n",
      " 4   manufacturer  409234 non-null  object \n",
      " 5   model         421603 non-null  object \n",
      " 6   condition     252776 non-null  object \n",
      " 7   cylinders     249202 non-null  object \n",
      " 8   fuel          423867 non-null  object \n",
      " 9   odometer      422480 non-null  float64\n",
      " 10  title_status  418638 non-null  object \n",
      " 11  transmission  424324 non-null  object \n",
      " 12  VIN           265838 non-null  object \n",
      " 13  drive         296313 non-null  object \n",
      " 14  size          120519 non-null  object \n",
      " 15  type          334022 non-null  object \n",
      " 16  paint_color   296677 non-null  object \n",
      " 17  state         426880 non-null  object \n",
      "dtypes: float64(2), int64(2), object(14)\n",
      "memory usage: 58.6+ MB\n"
     ]
    }
   ],
   "source": [
    "vehicles.info()"
   ]
  },
  {
   "cell_type": "markdown",
   "metadata": {},
   "source": [
    "**2.3.2)** Visualizing the number of null values per column"
   ]
  },
  {
   "cell_type": "code",
   "execution_count": 4,
   "metadata": {},
   "outputs": [
    {
     "data": {
      "text/plain": [
       "Text(0, 0.5, 'number of null values')"
      ]
     },
     "execution_count": 4,
     "metadata": {},
     "output_type": "execute_result"
    },
    {
     "data": {
      "image/png": "[encoded data removed]",
      "text/plain": [
       "<Figure size 432x288 with 1 Axes>"
      ]
     },
     "metadata": {
      "needs_background": "light"
     },
     "output_type": "display_data"
    }
   ],
   "source": [
    "vehicles.isnull().sum().sort_values().plot(kind = 'bar')\n",
    "plt.title('Number of null values per column', fontsize = 18)\n",
    "plt.xlabel('column names', fontsize=16)\n",
    "plt.ylabel('number of null values', fontsize=16)"
   ]
  },
  {
   "cell_type": "markdown",
   "metadata": {},
   "source": [
    "### 3) Data Preparation\n",
    "\n",
    "**After our initial exploration and fine tuning of the business understanding, it is time to construct our final dataset prior to modeling.  Here, we want to make sure to handle any integrity issues and cleaning, the engineering of new features, any transformations that we believe should happen (scaling, logarithms, normalization, etc.), and general preparation for modeling with `sklearn`.** "
   ]
  },
  {
   "cell_type": "markdown",
   "metadata": {},
   "source": [
    "### Steps taken to prepare/clean data:\n",
    "\n",
    "**Section 3.1:** Data Cleaning\n",
    "- **Section 3.1.1:** Eliminate unnecessary data\n",
    "- **Section 3.1.2:** Convert nominal to numerical values\n",
    "- **Section 3.1.3:** Ordinal encoding of the \"condition\" and \"title_status\" columns\n",
    "- **Section 3.1.4:** Leave one out encoding\n",
    "\n",
    "**Section 3.2:** Preliminary Dataset Examination (finding correlation between category features and car price)\n",
    "\n",
    "**Section 3.3:** Setting up miniature datasets\n",
    "- **Section 3.3.1:** SF bay area dataframe (higher population)\n",
    "- **Section 3.3.2:** Gold Country-Modesto-Imperial County dataframe (medium population)\n",
    "- **Section 3.3.3:** San Luis Obispo-Monterey Bay-Siskiyou County dataframe (lower population)"
   ]
  },
  {
   "cell_type": "markdown",
   "metadata": {},
   "source": [
    "### 3.1) Data Cleaning"
   ]
  },
  {
   "cell_type": "markdown",
   "metadata": {},
   "source": [
    "#### 3.1.1) Eliminating unnecessary data"
   ]
  },
  {
   "cell_type": "markdown",
   "metadata": {},
   "source": [
    "**vehicles_drop** = Will be deleting the \"size\" column because contains too many null values (as seen from **section 2.3.2**) and also the \"id\" and \"VIN\" numbers because these latter columns will not provide any information on price since each car has a different VIN and id number.\n",
    "\n",
    "**vehicles_clean** = After dropping the unnecessary columns, any remaining rows/columns with null values will also be dropped."
   ]
  },
  {
   "cell_type": "code",
   "execution_count": 5,
   "metadata": {},
   "outputs": [
    {
     "data": {
      "text/html": [
       "<div>\n",
       "<style scoped>\n",
       "    .dataframe tbody tr th:only-of-type {\n",
       "        vertical-align: middle;\n",
       "    }\n",
       "\n",
       "    .dataframe tbody tr th {\n",
       "        vertical-align: top;\n",
       "    }\n",
       "\n",
       "    .dataframe thead th {\n",
       "        text-align: right;\n",
       "    }\n",
       "</style>\n",
       "<table border=\"1\" class=\"dataframe\">\n",
       "  <thead>\n",
       "    <tr style=\"text-align: right;\">\n",
       "      <th></th>\n",
       "      <th>region</th>\n",
       "      <th>price</th>\n",
       "      <th>year</th>\n",
       "      <th>manufacturer</th>\n",
       "      <th>model</th>\n",
       "      <th>condition</th>\n",
       "      <th>cylinders</th>\n",
       "      <th>fuel</th>\n",
       "      <th>odometer</th>\n",
       "      <th>title_status</th>\n",
       "      <th>transmission</th>\n",
       "      <th>drive</th>\n",
       "      <th>type</th>\n",
       "      <th>paint_color</th>\n",
       "      <th>state</th>\n",
       "    </tr>\n",
       "  </thead>\n",
       "  <tbody>\n",
       "    <tr>\n",
       "      <th>31</th>\n",
       "      <td>auburn</td>\n",
       "      <td>15000</td>\n",
       "      <td>2013.0</td>\n",
       "      <td>ford</td>\n",
       "      <td>f-150 xlt</td>\n",
       "      <td>excellent</td>\n",
       "      <td>6 cylinders</td>\n",
       "      <td>gas</td>\n",
       "      <td>128000.0</td>\n",
       "      <td>clean</td>\n",
       "      <td>automatic</td>\n",
       "      <td>rwd</td>\n",
       "      <td>truck</td>\n",
       "      <td>black</td>\n",
       "      <td>al</td>\n",
       "    </tr>\n",
       "    <tr>\n",
       "      <th>32</th>\n",
       "      <td>auburn</td>\n",
       "      <td>27990</td>\n",
       "      <td>2012.0</td>\n",
       "      <td>gmc</td>\n",
       "      <td>sierra 2500 hd extended cab</td>\n",
       "      <td>good</td>\n",
       "      <td>8 cylinders</td>\n",
       "      <td>gas</td>\n",
       "      <td>68696.0</td>\n",
       "      <td>clean</td>\n",
       "      <td>other</td>\n",
       "      <td>4wd</td>\n",
       "      <td>pickup</td>\n",
       "      <td>black</td>\n",
       "      <td>al</td>\n",
       "    </tr>\n",
       "    <tr>\n",
       "      <th>33</th>\n",
       "      <td>auburn</td>\n",
       "      <td>34590</td>\n",
       "      <td>2016.0</td>\n",
       "      <td>chevrolet</td>\n",
       "      <td>silverado 1500 double</td>\n",
       "      <td>good</td>\n",
       "      <td>6 cylinders</td>\n",
       "      <td>gas</td>\n",
       "      <td>29499.0</td>\n",
       "      <td>clean</td>\n",
       "      <td>other</td>\n",
       "      <td>4wd</td>\n",
       "      <td>pickup</td>\n",
       "      <td>silver</td>\n",
       "      <td>al</td>\n",
       "    </tr>\n",
       "    <tr>\n",
       "      <th>34</th>\n",
       "      <td>auburn</td>\n",
       "      <td>35000</td>\n",
       "      <td>2019.0</td>\n",
       "      <td>toyota</td>\n",
       "      <td>tacoma</td>\n",
       "      <td>excellent</td>\n",
       "      <td>6 cylinders</td>\n",
       "      <td>gas</td>\n",
       "      <td>43000.0</td>\n",
       "      <td>clean</td>\n",
       "      <td>automatic</td>\n",
       "      <td>4wd</td>\n",
       "      <td>truck</td>\n",
       "      <td>grey</td>\n",
       "      <td>al</td>\n",
       "    </tr>\n",
       "    <tr>\n",
       "      <th>35</th>\n",
       "      <td>auburn</td>\n",
       "      <td>29990</td>\n",
       "      <td>2016.0</td>\n",
       "      <td>chevrolet</td>\n",
       "      <td>colorado extended cab</td>\n",
       "      <td>good</td>\n",
       "      <td>6 cylinders</td>\n",
       "      <td>gas</td>\n",
       "      <td>17302.0</td>\n",
       "      <td>clean</td>\n",
       "      <td>other</td>\n",
       "      <td>4wd</td>\n",
       "      <td>pickup</td>\n",
       "      <td>red</td>\n",
       "      <td>al</td>\n",
       "    </tr>\n",
       "  </tbody>\n",
       "</table>\n",
       "</div>"
      ],
      "text/plain": [
       "    region  price    year manufacturer                        model  \\\n",
       "31  auburn  15000  2013.0         ford                    f-150 xlt   \n",
       "32  auburn  27990  2012.0          gmc  sierra 2500 hd extended cab   \n",
       "33  auburn  34590  2016.0    chevrolet        silverado 1500 double   \n",
       "34  auburn  35000  2019.0       toyota                       tacoma   \n",
       "35  auburn  29990  2016.0    chevrolet        colorado extended cab   \n",
       "\n",
       "    condition    cylinders fuel  odometer title_status transmission drive  \\\n",
       "31  excellent  6 cylinders  gas  128000.0        clean    automatic   rwd   \n",
       "32       good  8 cylinders  gas   68696.0        clean        other   4wd   \n",
       "33       good  6 cylinders  gas   29499.0        clean        other   4wd   \n",
       "34  excellent  6 cylinders  gas   43000.0        clean    automatic   4wd   \n",
       "35       good  6 cylinders  gas   17302.0        clean        other   4wd   \n",
       "\n",
       "      type paint_color state  \n",
       "31   truck       black    al  \n",
       "32  pickup       black    al  \n",
       "33  pickup      silver    al  \n",
       "34   truck        grey    al  \n",
       "35  pickup         red    al  "
      ]
     },
     "execution_count": 5,
     "metadata": {},
     "output_type": "execute_result"
    }
   ],
   "source": [
    "vehicles_drop = vehicles.drop(columns = ['size', 'id', 'VIN'])\n",
    "vehicles_clean = vehicles_drop.dropna()\n",
    "vehicles_clean.head()"
   ]
  },
  {
   "cell_type": "markdown",
   "metadata": {},
   "source": [
    "#### 3.1.2) Nominal to numerical values\n",
    "\n",
    "In the \"cylinders\" column, rather than recording the number of car cylinders as numerical values, it is currently recorded as strings such as: \"6 cylinders\" or \"8 cylinders\". We need to convert these nominal values to numerical values (i.e., 6 or 8)."
   ]
  },
  {
   "cell_type": "code",
   "execution_count": 6,
   "metadata": {},
   "outputs": [
    {
     "name": "stderr",
     "output_type": "stream",
     "text": [
      "C:\\Users\\Kristen Wang\\AppData\\Local\\Temp\\ipykernel_19116\\906765576.py:2: SettingWithCopyWarning: \n",
      "A value is trying to be set on a copy of a slice from a DataFrame.\n",
      "Try using .loc[row_indexer,col_indexer] = value instead\n",
      "\n",
      "See the caveats in the documentation: https://pandas.pydata.org/pandas-docs/stable/user_guide/indexing.html#returning-a-view-versus-a-copy\n",
      "  vehicles_data['cylinders'] = vehicles_data[\"cylinders\"].str.replace(\" cylinders\",\"\")\n",
      "C:\\Users\\Kristen Wang\\AppData\\Local\\Temp\\ipykernel_19116\\906765576.py:3: SettingWithCopyWarning: \n",
      "A value is trying to be set on a copy of a slice from a DataFrame.\n",
      "Try using .loc[row_indexer,col_indexer] = value instead\n",
      "\n",
      "See the caveats in the documentation: https://pandas.pydata.org/pandas-docs/stable/user_guide/indexing.html#returning-a-view-versus-a-copy\n",
      "  vehicles_data['cylinders'] = vehicles_data['cylinders'].astype(str).astype(int)\n"
     ]
    },
    {
     "name": "stdout",
     "output_type": "stream",
     "text": [
      "<class 'pandas.core.frame.DataFrame'>\n",
      "Int64Index: 115680 entries, 31 to 426878\n",
      "Data columns (total 15 columns):\n",
      " #   Column        Non-Null Count   Dtype  \n",
      "---  ------        --------------   -----  \n",
      " 0   region        115680 non-null  object \n",
      " 1   price         115680 non-null  int64  \n",
      " 2   year          115680 non-null  float64\n",
      " 3   manufacturer  115680 non-null  object \n",
      " 4   model         115680 non-null  object \n",
      " 5   condition     115680 non-null  object \n",
      " 6   cylinders     115680 non-null  int32  \n",
      " 7   fuel          115680 non-null  object \n",
      " 8   odometer      115680 non-null  float64\n",
      " 9   title_status  115680 non-null  object \n",
      " 10  transmission  115680 non-null  object \n",
      " 11  drive         115680 non-null  object \n",
      " 12  type          115680 non-null  object \n",
      " 13  paint_color   115680 non-null  object \n",
      " 14  state         115680 non-null  object \n",
      "dtypes: float64(2), int32(1), int64(1), object(11)\n",
      "memory usage: 13.7+ MB\n"
     ]
    }
   ],
   "source": [
    "vehicles_data = vehicles_clean.query('cylinders != \"other\"')\n",
    "vehicles_data['cylinders'] = vehicles_data[\"cylinders\"].str.replace(\" cylinders\",\"\")\n",
    "vehicles_data['cylinders'] = vehicles_data['cylinders'].astype(str).astype(int)\n",
    "vehicles_data.info()"
   ]
  },
  {
   "cell_type": "markdown",
   "metadata": {},
   "source": [
    "#### 3.1.3) Ordinal Encoding of the \"condition\" and \"title_status\" columns\n",
    "Since the \"condition\" and \"title_status\" columns contain nominal datatypes that inherently can be ordered/rank, ordinal encoding will be used to convert these nominal datatypes into numerical datatypes."
   ]
  },
  {
   "cell_type": "markdown",
   "metadata": {},
   "source": [
    "For the \"condition\" column:\n",
    "- 'salvage' = 0\n",
    "- 'fair' = 1\n",
    "- 'good' = 2\n",
    "- 'excellent' = 3\n",
    "- 'like new' = 4\n",
    "- 'new' = 5"
   ]
  },
  {
   "cell_type": "code",
   "execution_count": 8,
   "metadata": {},
   "outputs": [
    {
     "name": "stderr",
     "output_type": "stream",
     "text": [
      "C:\\Users\\Kristen Wang\\AppData\\Local\\Temp\\ipykernel_19116\\2613110568.py:2: SettingWithCopyWarning: \n",
      "A value is trying to be set on a copy of a slice from a DataFrame.\n",
      "Try using .loc[row_indexer,col_indexer] = value instead\n",
      "\n",
      "See the caveats in the documentation: https://pandas.pydata.org/pandas-docs/stable/user_guide/indexing.html#returning-a-view-versus-a-copy\n",
      "  vehicles_data['condition_rank'] = vehicles_data['condition'].replace(scale_mapper_condition)\n"
     ]
    },
    {
     "data": {
      "text/html": [
       "<div>\n",
       "<style scoped>\n",
       "    .dataframe tbody tr th:only-of-type {\n",
       "        vertical-align: middle;\n",
       "    }\n",
       "\n",
       "    .dataframe tbody tr th {\n",
       "        vertical-align: top;\n",
       "    }\n",
       "\n",
       "    .dataframe thead th {\n",
       "        text-align: right;\n",
       "    }\n",
       "</style>\n",
       "<table border=\"1\" class=\"dataframe\">\n",
       "  <thead>\n",
       "    <tr style=\"text-align: right;\">\n",
       "      <th></th>\n",
       "      <th>region</th>\n",
       "      <th>price</th>\n",
       "      <th>year</th>\n",
       "      <th>manufacturer</th>\n",
       "      <th>model</th>\n",
       "      <th>condition</th>\n",
       "      <th>cylinders</th>\n",
       "      <th>fuel</th>\n",
       "      <th>odometer</th>\n",
       "      <th>title_status</th>\n",
       "      <th>transmission</th>\n",
       "      <th>drive</th>\n",
       "      <th>type</th>\n",
       "      <th>paint_color</th>\n",
       "      <th>state</th>\n",
       "      <th>condition_rank</th>\n",
       "    </tr>\n",
       "  </thead>\n",
       "  <tbody>\n",
       "    <tr>\n",
       "      <th>31</th>\n",
       "      <td>auburn</td>\n",
       "      <td>15000</td>\n",
       "      <td>2013.0</td>\n",
       "      <td>ford</td>\n",
       "      <td>f-150 xlt</td>\n",
       "      <td>excellent</td>\n",
       "      <td>6</td>\n",
       "      <td>gas</td>\n",
       "      <td>128000.0</td>\n",
       "      <td>clean</td>\n",
       "      <td>automatic</td>\n",
       "      <td>rwd</td>\n",
       "      <td>truck</td>\n",
       "      <td>black</td>\n",
       "      <td>al</td>\n",
       "      <td>3</td>\n",
       "    </tr>\n",
       "    <tr>\n",
       "      <th>32</th>\n",
       "      <td>auburn</td>\n",
       "      <td>27990</td>\n",
       "      <td>2012.0</td>\n",
       "      <td>gmc</td>\n",
       "      <td>sierra 2500 hd extended cab</td>\n",
       "      <td>good</td>\n",
       "      <td>8</td>\n",
       "      <td>gas</td>\n",
       "      <td>68696.0</td>\n",
       "      <td>clean</td>\n",
       "      <td>other</td>\n",
       "      <td>4wd</td>\n",
       "      <td>pickup</td>\n",
       "      <td>black</td>\n",
       "      <td>al</td>\n",
       "      <td>2</td>\n",
       "    </tr>\n",
       "    <tr>\n",
       "      <th>33</th>\n",
       "      <td>auburn</td>\n",
       "      <td>34590</td>\n",
       "      <td>2016.0</td>\n",
       "      <td>chevrolet</td>\n",
       "      <td>silverado 1500 double</td>\n",
       "      <td>good</td>\n",
       "      <td>6</td>\n",
       "      <td>gas</td>\n",
       "      <td>29499.0</td>\n",
       "      <td>clean</td>\n",
       "      <td>other</td>\n",
       "      <td>4wd</td>\n",
       "      <td>pickup</td>\n",
       "      <td>silver</td>\n",
       "      <td>al</td>\n",
       "      <td>2</td>\n",
       "    </tr>\n",
       "    <tr>\n",
       "      <th>34</th>\n",
       "      <td>auburn</td>\n",
       "      <td>35000</td>\n",
       "      <td>2019.0</td>\n",
       "      <td>toyota</td>\n",
       "      <td>tacoma</td>\n",
       "      <td>excellent</td>\n",
       "      <td>6</td>\n",
       "      <td>gas</td>\n",
       "      <td>43000.0</td>\n",
       "      <td>clean</td>\n",
       "      <td>automatic</td>\n",
       "      <td>4wd</td>\n",
       "      <td>truck</td>\n",
       "      <td>grey</td>\n",
       "      <td>al</td>\n",
       "      <td>3</td>\n",
       "    </tr>\n",
       "    <tr>\n",
       "      <th>35</th>\n",
       "      <td>auburn</td>\n",
       "      <td>29990</td>\n",
       "      <td>2016.0</td>\n",
       "      <td>chevrolet</td>\n",
       "      <td>colorado extended cab</td>\n",
       "      <td>good</td>\n",
       "      <td>6</td>\n",
       "      <td>gas</td>\n",
       "      <td>17302.0</td>\n",
       "      <td>clean</td>\n",
       "      <td>other</td>\n",
       "      <td>4wd</td>\n",
       "      <td>pickup</td>\n",
       "      <td>red</td>\n",
       "      <td>al</td>\n",
       "      <td>2</td>\n",
       "    </tr>\n",
       "  </tbody>\n",
       "</table>\n",
       "</div>"
      ],
      "text/plain": [
       "    region  price    year manufacturer                        model  \\\n",
       "31  auburn  15000  2013.0         ford                    f-150 xlt   \n",
       "32  auburn  27990  2012.0          gmc  sierra 2500 hd extended cab   \n",
       "33  auburn  34590  2016.0    chevrolet        silverado 1500 double   \n",
       "34  auburn  35000  2019.0       toyota                       tacoma   \n",
       "35  auburn  29990  2016.0    chevrolet        colorado extended cab   \n",
       "\n",
       "    condition  cylinders fuel  odometer title_status transmission drive  \\\n",
       "31  excellent          6  gas  128000.0        clean    automatic   rwd   \n",
       "32       good          8  gas   68696.0        clean        other   4wd   \n",
       "33       good          6  gas   29499.0        clean        other   4wd   \n",
       "34  excellent          6  gas   43000.0        clean    automatic   4wd   \n",
       "35       good          6  gas   17302.0        clean        other   4wd   \n",
       "\n",
       "      type paint_color state  condition_rank  \n",
       "31   truck       black    al               3  \n",
       "32  pickup       black    al               2  \n",
       "33  pickup      silver    al               2  \n",
       "34   truck        grey    al               3  \n",
       "35  pickup         red    al               2  "
      ]
     },
     "execution_count": 8,
     "metadata": {},
     "output_type": "execute_result"
    }
   ],
   "source": [
    "scale_mapper_condition = {\"salvage\":0, \"fair\":1, \"good\":2, \"excellent\":3, \"like new\":4, \"new\":5}\n",
    "vehicles_data['condition_rank'] = vehicles_data['condition'].replace(scale_mapper_condition)\n",
    "vehicles_data.head()"
   ]
  },
  {
   "cell_type": "markdown",
   "metadata": {},
   "source": [
    "For the \"title_status\" column:\n",
    "\n",
    "- 'parts only' = 0\n",
    "- 'missing' = 1\n",
    "- 'lien' = 2\n",
    "- 'salvage' = 3\n",
    "- 'rebuilt' = 4\n",
    "- 'clean' = 5"
   ]
  },
  {
   "cell_type": "code",
   "execution_count": 9,
   "metadata": {},
   "outputs": [
    {
     "name": "stderr",
     "output_type": "stream",
     "text": [
      "C:\\Users\\Kristen Wang\\AppData\\Local\\Temp\\ipykernel_19116\\3201874552.py:2: SettingWithCopyWarning: \n",
      "A value is trying to be set on a copy of a slice from a DataFrame.\n",
      "Try using .loc[row_indexer,col_indexer] = value instead\n",
      "\n",
      "See the caveats in the documentation: https://pandas.pydata.org/pandas-docs/stable/user_guide/indexing.html#returning-a-view-versus-a-copy\n",
      "  vehicles_data['title_status_rank'] = vehicles_data['title_status'].replace(scale_mapper_title)\n"
     ]
    },
    {
     "data": {
      "text/html": [
       "<div>\n",
       "<style scoped>\n",
       "    .dataframe tbody tr th:only-of-type {\n",
       "        vertical-align: middle;\n",
       "    }\n",
       "\n",
       "    .dataframe tbody tr th {\n",
       "        vertical-align: top;\n",
       "    }\n",
       "\n",
       "    .dataframe thead th {\n",
       "        text-align: right;\n",
       "    }\n",
       "</style>\n",
       "<table border=\"1\" class=\"dataframe\">\n",
       "  <thead>\n",
       "    <tr style=\"text-align: right;\">\n",
       "      <th></th>\n",
       "      <th>region</th>\n",
       "      <th>price</th>\n",
       "      <th>year</th>\n",
       "      <th>manufacturer</th>\n",
       "      <th>model</th>\n",
       "      <th>condition</th>\n",
       "      <th>cylinders</th>\n",
       "      <th>fuel</th>\n",
       "      <th>odometer</th>\n",
       "      <th>title_status</th>\n",
       "      <th>transmission</th>\n",
       "      <th>drive</th>\n",
       "      <th>type</th>\n",
       "      <th>paint_color</th>\n",
       "      <th>state</th>\n",
       "      <th>condition_rank</th>\n",
       "      <th>title_status_rank</th>\n",
       "    </tr>\n",
       "  </thead>\n",
       "  <tbody>\n",
       "    <tr>\n",
       "      <th>31</th>\n",
       "      <td>auburn</td>\n",
       "      <td>15000</td>\n",
       "      <td>2013.0</td>\n",
       "      <td>ford</td>\n",
       "      <td>f-150 xlt</td>\n",
       "      <td>excellent</td>\n",
       "      <td>6</td>\n",
       "      <td>gas</td>\n",
       "      <td>128000.0</td>\n",
       "      <td>clean</td>\n",
       "      <td>automatic</td>\n",
       "      <td>rwd</td>\n",
       "      <td>truck</td>\n",
       "      <td>black</td>\n",
       "      <td>al</td>\n",
       "      <td>3</td>\n",
       "      <td>5</td>\n",
       "    </tr>\n",
       "    <tr>\n",
       "      <th>32</th>\n",
       "      <td>auburn</td>\n",
       "      <td>27990</td>\n",
       "      <td>2012.0</td>\n",
       "      <td>gmc</td>\n",
       "      <td>sierra 2500 hd extended cab</td>\n",
       "      <td>good</td>\n",
       "      <td>8</td>\n",
       "      <td>gas</td>\n",
       "      <td>68696.0</td>\n",
       "      <td>clean</td>\n",
       "      <td>other</td>\n",
       "      <td>4wd</td>\n",
       "      <td>pickup</td>\n",
       "      <td>black</td>\n",
       "      <td>al</td>\n",
       "      <td>2</td>\n",
       "      <td>5</td>\n",
       "    </tr>\n",
       "    <tr>\n",
       "      <th>33</th>\n",
       "      <td>auburn</td>\n",
       "      <td>34590</td>\n",
       "      <td>2016.0</td>\n",
       "      <td>chevrolet</td>\n",
       "      <td>silverado 1500 double</td>\n",
       "      <td>good</td>\n",
       "      <td>6</td>\n",
       "      <td>gas</td>\n",
       "      <td>29499.0</td>\n",
       "      <td>clean</td>\n",
       "      <td>other</td>\n",
       "      <td>4wd</td>\n",
       "      <td>pickup</td>\n",
       "      <td>silver</td>\n",
       "      <td>al</td>\n",
       "      <td>2</td>\n",
       "      <td>5</td>\n",
       "    </tr>\n",
       "    <tr>\n",
       "      <th>34</th>\n",
       "      <td>auburn</td>\n",
       "      <td>35000</td>\n",
       "      <td>2019.0</td>\n",
       "      <td>toyota</td>\n",
       "      <td>tacoma</td>\n",
       "      <td>excellent</td>\n",
       "      <td>6</td>\n",
       "      <td>gas</td>\n",
       "      <td>43000.0</td>\n",
       "      <td>clean</td>\n",
       "      <td>automatic</td>\n",
       "      <td>4wd</td>\n",
       "      <td>truck</td>\n",
       "      <td>grey</td>\n",
       "      <td>al</td>\n",
       "      <td>3</td>\n",
       "      <td>5</td>\n",
       "    </tr>\n",
       "    <tr>\n",
       "      <th>35</th>\n",
       "      <td>auburn</td>\n",
       "      <td>29990</td>\n",
       "      <td>2016.0</td>\n",
       "      <td>chevrolet</td>\n",
       "      <td>colorado extended cab</td>\n",
       "      <td>good</td>\n",
       "      <td>6</td>\n",
       "      <td>gas</td>\n",
       "      <td>17302.0</td>\n",
       "      <td>clean</td>\n",
       "      <td>other</td>\n",
       "      <td>4wd</td>\n",
       "      <td>pickup</td>\n",
       "      <td>red</td>\n",
       "      <td>al</td>\n",
       "      <td>2</td>\n",
       "      <td>5</td>\n",
       "    </tr>\n",
       "  </tbody>\n",
       "</table>\n",
       "</div>"
      ],
      "text/plain": [
       "    region  price    year manufacturer                        model  \\\n",
       "31  auburn  15000  2013.0         ford                    f-150 xlt   \n",
       "32  auburn  27990  2012.0          gmc  sierra 2500 hd extended cab   \n",
       "33  auburn  34590  2016.0    chevrolet        silverado 1500 double   \n",
       "34  auburn  35000  2019.0       toyota                       tacoma   \n",
       "35  auburn  29990  2016.0    chevrolet        colorado extended cab   \n",
       "\n",
       "    condition  cylinders fuel  odometer title_status transmission drive  \\\n",
       "31  excellent          6  gas  128000.0        clean    automatic   rwd   \n",
       "32       good          8  gas   68696.0        clean        other   4wd   \n",
       "33       good          6  gas   29499.0        clean        other   4wd   \n",
       "34  excellent          6  gas   43000.0        clean    automatic   4wd   \n",
       "35       good          6  gas   17302.0        clean        other   4wd   \n",
       "\n",
       "      type paint_color state  condition_rank  title_status_rank  \n",
       "31   truck       black    al               3                  5  \n",
       "32  pickup       black    al               2                  5  \n",
       "33  pickup      silver    al               2                  5  \n",
       "34   truck        grey    al               3                  5  \n",
       "35  pickup         red    al               2                  5  "
      ]
     },
     "execution_count": 9,
     "metadata": {},
     "output_type": "execute_result"
    }
   ],
   "source": [
    "scale_mapper_title = {\"parts only\":0, \"missing\":1, \"lien\":2, \"salvage\":3, \"rebuilt\":4, \"clean\":5}\n",
    "vehicles_data['title_status_rank'] = vehicles_data['title_status'].replace(scale_mapper_title)\n",
    "vehicles_data.head()"
   ]
  },
  {
   "cell_type": "markdown",
   "metadata": {},
   "source": [
    "#### 3.1.4) Leave one out encoding\n",
    "To convert the remaining object datatypes to numerical datatypes, we will use leave-one-out encoding."
   ]
  },
  {
   "cell_type": "code",
   "execution_count": 10,
   "metadata": {},
   "outputs": [
    {
     "data": {
      "text/html": [
       "<div>\n",
       "<style scoped>\n",
       "    .dataframe tbody tr th:only-of-type {\n",
       "        vertical-align: middle;\n",
       "    }\n",
       "\n",
       "    .dataframe tbody tr th {\n",
       "        vertical-align: top;\n",
       "    }\n",
       "\n",
       "    .dataframe thead th {\n",
       "        text-align: right;\n",
       "    }\n",
       "</style>\n",
       "<table border=\"1\" class=\"dataframe\">\n",
       "  <thead>\n",
       "    <tr style=\"text-align: right;\">\n",
       "      <th></th>\n",
       "      <th>region</th>\n",
       "      <th>price</th>\n",
       "      <th>year</th>\n",
       "      <th>manufacturer</th>\n",
       "      <th>model</th>\n",
       "      <th>cylinders</th>\n",
       "      <th>fuel</th>\n",
       "      <th>odometer</th>\n",
       "      <th>transmission</th>\n",
       "      <th>drive</th>\n",
       "      <th>type</th>\n",
       "      <th>paint_color</th>\n",
       "      <th>state</th>\n",
       "      <th>condition_rank</th>\n",
       "      <th>title_status_rank</th>\n",
       "    </tr>\n",
       "  </thead>\n",
       "  <tbody>\n",
       "    <tr>\n",
       "      <th>31</th>\n",
       "      <td>25736.923077</td>\n",
       "      <td>15000</td>\n",
       "      <td>2013.0</td>\n",
       "      <td>71024.612241</td>\n",
       "      <td>19905.144737</td>\n",
       "      <td>6</td>\n",
       "      <td>53338.593196</td>\n",
       "      <td>128000.0</td>\n",
       "      <td>68672.470963</td>\n",
       "      <td>58873.411665</td>\n",
       "      <td>29928.755274</td>\n",
       "      <td>23657.022827</td>\n",
       "      <td>19137.199242</td>\n",
       "      <td>3</td>\n",
       "      <td>5</td>\n",
       "    </tr>\n",
       "    <tr>\n",
       "      <th>32</th>\n",
       "      <td>25403.846154</td>\n",
       "      <td>27990</td>\n",
       "      <td>2012.0</td>\n",
       "      <td>46898.401028</td>\n",
       "      <td>27990.000000</td>\n",
       "      <td>8</td>\n",
       "      <td>53338.470714</td>\n",
       "      <td>68696.0</td>\n",
       "      <td>31390.868268</td>\n",
       "      <td>100813.365618</td>\n",
       "      <td>413546.526555</td>\n",
       "      <td>23656.433311</td>\n",
       "      <td>19127.358333</td>\n",
       "      <td>2</td>\n",
       "      <td>5</td>\n",
       "    </tr>\n",
       "    <tr>\n",
       "      <th>33</th>\n",
       "      <td>25234.615385</td>\n",
       "      <td>34590</td>\n",
       "      <td>2016.0</td>\n",
       "      <td>17700.608933</td>\n",
       "      <td>33475.407166</td>\n",
       "      <td>6</td>\n",
       "      <td>53338.408482</td>\n",
       "      <td>29499.0</td>\n",
       "      <td>31390.328920</td>\n",
       "      <td>100813.230929</td>\n",
       "      <td>413546.010325</td>\n",
       "      <td>235780.074012</td>\n",
       "      <td>19122.358333</td>\n",
       "      <td>2</td>\n",
       "      <td>5</td>\n",
       "    </tr>\n",
       "    <tr>\n",
       "      <th>34</th>\n",
       "      <td>25224.102564</td>\n",
       "      <td>35000</td>\n",
       "      <td>2019.0</td>\n",
       "      <td>384609.810242</td>\n",
       "      <td>18145.962590</td>\n",
       "      <td>6</td>\n",
       "      <td>53338.404616</td>\n",
       "      <td>43000.0</td>\n",
       "      <td>68672.261082</td>\n",
       "      <td>100813.222562</td>\n",
       "      <td>29927.468935</td>\n",
       "      <td>23626.721058</td>\n",
       "      <td>19122.047727</td>\n",
       "      <td>3</td>\n",
       "      <td>5</td>\n",
       "    </tr>\n",
       "    <tr>\n",
       "      <th>35</th>\n",
       "      <td>25352.564103</td>\n",
       "      <td>29990</td>\n",
       "      <td>2016.0</td>\n",
       "      <td>17700.868030</td>\n",
       "      <td>28513.840909</td>\n",
       "      <td>6</td>\n",
       "      <td>53338.451856</td>\n",
       "      <td>17302.0</td>\n",
       "      <td>31390.704830</td>\n",
       "      <td>100813.324803</td>\n",
       "      <td>413546.370121</td>\n",
       "      <td>16599.976080</td>\n",
       "      <td>19125.843182</td>\n",
       "      <td>2</td>\n",
       "      <td>5</td>\n",
       "    </tr>\n",
       "  </tbody>\n",
       "</table>\n",
       "</div>"
      ],
      "text/plain": [
       "          region  price    year   manufacturer         model  cylinders  \\\n",
       "31  25736.923077  15000  2013.0   71024.612241  19905.144737          6   \n",
       "32  25403.846154  27990  2012.0   46898.401028  27990.000000          8   \n",
       "33  25234.615385  34590  2016.0   17700.608933  33475.407166          6   \n",
       "34  25224.102564  35000  2019.0  384609.810242  18145.962590          6   \n",
       "35  25352.564103  29990  2016.0   17700.868030  28513.840909          6   \n",
       "\n",
       "            fuel  odometer  transmission          drive           type  \\\n",
       "31  53338.593196  128000.0  68672.470963   58873.411665   29928.755274   \n",
       "32  53338.470714   68696.0  31390.868268  100813.365618  413546.526555   \n",
       "33  53338.408482   29499.0  31390.328920  100813.230929  413546.010325   \n",
       "34  53338.404616   43000.0  68672.261082  100813.222562   29927.468935   \n",
       "35  53338.451856   17302.0  31390.704830  100813.324803  413546.370121   \n",
       "\n",
       "      paint_color         state  condition_rank  title_status_rank  \n",
       "31   23657.022827  19137.199242               3                  5  \n",
       "32   23656.433311  19127.358333               2                  5  \n",
       "33  235780.074012  19122.358333               2                  5  \n",
       "34   23626.721058  19122.047727               3                  5  \n",
       "35   16599.976080  19125.843182               2                  5  "
      ]
     },
     "execution_count": 10,
     "metadata": {},
     "output_type": "execute_result"
    }
   ],
   "source": [
    "encoder = ce.LeaveOneOutEncoder(return_df = True)\n",
    "vehicles_data_loo = encoder.fit_transform(vehicles_data.drop(columns = ['condition', 'title_status']), vehicles_data['price'])\n",
    "vehicles_data_loo.head()"
   ]
  },
  {
   "cell_type": "markdown",
   "metadata": {},
   "source": [
    "### 3.2) Preliminary Dataset Examination\n",
    "\n",
    "A heatmap is plotted to visualize the correlation between price and the other categorical features: region, year, manufacturer, model, cylinders, fuel, odometer, transmission, drive, type, paint_color, state, condition, title_status"
   ]
  },
  {
   "cell_type": "code",
   "execution_count": 11,
   "metadata": {},
   "outputs": [
    {
     "data": {
      "text/plain": [
       "Text(158.09375, 0.5, 'column names')"
      ]
     },
     "execution_count": 11,
     "metadata": {},
     "output_type": "execute_result"
    },
    {
     "data": {
      "image/png": "[encoded data removed]",
      "text/plain": [
       "<Figure size 1440x1440 with 2 Axes>"
      ]
     },
     "metadata": {
      "needs_background": "light"
     },
     "output_type": "display_data"
    }
   ],
   "source": [
    "plt.figure(figsize=(20,20))\n",
    "sns.heatmap(vehicles_data_loo.corr(), annot=True)\n",
    "plt.title('Correlation between features', fontsize = 18)\n",
    "plt.xlabel('column names', fontsize=16)\n",
    "plt.ylabel('column names', fontsize=16)"
   ]
  },
  {
   "cell_type": "markdown",
   "metadata": {},
   "source": [
    "Based on the above heatmap, there seems to be very little to no correlation between the features and price. This could be because different regions/states have different guidelines when it comes to determining the price of a used car."
   ]
  },
  {
   "cell_type": "markdown",
   "metadata": {},
   "source": [
    "### 3.3) Setting up miniature datasets"
   ]
  },
  {
   "cell_type": "markdown",
   "metadata": {},
   "source": [
    "Because I am from California, I will focus on comparing the car prices/ features that can be used to predict car prices of different regions within California, specifically: Region I (i.e., SF bay area), Region II (i.e., Gold Country/Modesto/Imperial County), and Region III (i.e., San Luis Obispo/Monterey Bay/Siskiyou County). I specifically chose these three regions because they represent different populated regions of CA.\n",
    "\n",
    "\n",
    "According to Google, Region I (SF bay area) has the highest population in CA while Region III (San Luis Obispo/Monterey Bay/Siskiyou County) has one of the lowest populations in CA. The population of Region II (Gold Country/Modesto/Imperial County) is between that of Region I and III.\n",
    "\n",
    "\n",
    "The reason why I combine the data of Gold Country with Modesto and Imperial County and the data of San Luis Obispo with Monterey Bay and Siskiyou County is so the overall number of entries for each Region I, II, and III dataset would be approximately the same (about 760 entries)."
   ]
  },
  {
   "cell_type": "markdown",
   "metadata": {},
   "source": [
    "#### 3.3.1) SF bay area dataframe (higher population)\n",
    "\n",
    "Using query, I pull up only data from the SF bay area as well as rows with price not equal to zero. "
   ]
  },
  {
   "cell_type": "code",
   "execution_count": 14,
   "metadata": {},
   "outputs": [
    {
     "data": {
      "text/html": [
       "<div>\n",
       "<style scoped>\n",
       "    .dataframe tbody tr th:only-of-type {\n",
       "        vertical-align: middle;\n",
       "    }\n",
       "\n",
       "    .dataframe tbody tr th {\n",
       "        vertical-align: top;\n",
       "    }\n",
       "\n",
       "    .dataframe thead th {\n",
       "        text-align: right;\n",
       "    }\n",
       "</style>\n",
       "<table border=\"1\" class=\"dataframe\">\n",
       "  <thead>\n",
       "    <tr style=\"text-align: right;\">\n",
       "      <th></th>\n",
       "      <th>price</th>\n",
       "      <th>year</th>\n",
       "      <th>manufacturer</th>\n",
       "      <th>model</th>\n",
       "      <th>cylinders</th>\n",
       "      <th>fuel</th>\n",
       "      <th>odometer</th>\n",
       "      <th>transmission</th>\n",
       "      <th>drive</th>\n",
       "      <th>type</th>\n",
       "      <th>paint_color</th>\n",
       "      <th>condition_rank</th>\n",
       "      <th>title_status_rank</th>\n",
       "    </tr>\n",
       "  </thead>\n",
       "  <tbody>\n",
       "    <tr>\n",
       "      <th>60485</th>\n",
       "      <td>25800</td>\n",
       "      <td>2015.0</td>\n",
       "      <td>ford</td>\n",
       "      <td>explorer</td>\n",
       "      <td>6</td>\n",
       "      <td>gas</td>\n",
       "      <td>61351.0</td>\n",
       "      <td>automatic</td>\n",
       "      <td>4wd</td>\n",
       "      <td>SUV</td>\n",
       "      <td>black</td>\n",
       "      <td>3</td>\n",
       "      <td>5</td>\n",
       "    </tr>\n",
       "    <tr>\n",
       "      <th>60486</th>\n",
       "      <td>43991</td>\n",
       "      <td>2018.0</td>\n",
       "      <td>mercedes-benz</td>\n",
       "      <td>e-class</td>\n",
       "      <td>6</td>\n",
       "      <td>gas</td>\n",
       "      <td>31481.0</td>\n",
       "      <td>automatic</td>\n",
       "      <td>rwd</td>\n",
       "      <td>coupe</td>\n",
       "      <td>white</td>\n",
       "      <td>3</td>\n",
       "      <td>5</td>\n",
       "    </tr>\n",
       "    <tr>\n",
       "      <th>60487</th>\n",
       "      <td>33988</td>\n",
       "      <td>2019.0</td>\n",
       "      <td>toyota</td>\n",
       "      <td>rav4</td>\n",
       "      <td>4</td>\n",
       "      <td>gas</td>\n",
       "      <td>7836.0</td>\n",
       "      <td>automatic</td>\n",
       "      <td>4wd</td>\n",
       "      <td>SUV</td>\n",
       "      <td>red</td>\n",
       "      <td>3</td>\n",
       "      <td>5</td>\n",
       "    </tr>\n",
       "    <tr>\n",
       "      <th>60488</th>\n",
       "      <td>23993</td>\n",
       "      <td>2014.0</td>\n",
       "      <td>ford</td>\n",
       "      <td>expedition el</td>\n",
       "      <td>8</td>\n",
       "      <td>gas</td>\n",
       "      <td>101583.0</td>\n",
       "      <td>automatic</td>\n",
       "      <td>4wd</td>\n",
       "      <td>SUV</td>\n",
       "      <td>grey</td>\n",
       "      <td>3</td>\n",
       "      <td>5</td>\n",
       "    </tr>\n",
       "    <tr>\n",
       "      <th>60489</th>\n",
       "      <td>18895</td>\n",
       "      <td>2019.0</td>\n",
       "      <td>volkswagen</td>\n",
       "      <td>tiguan</td>\n",
       "      <td>4</td>\n",
       "      <td>gas</td>\n",
       "      <td>24656.0</td>\n",
       "      <td>automatic</td>\n",
       "      <td>fwd</td>\n",
       "      <td>SUV</td>\n",
       "      <td>green</td>\n",
       "      <td>3</td>\n",
       "      <td>5</td>\n",
       "    </tr>\n",
       "  </tbody>\n",
       "</table>\n",
       "</div>"
      ],
      "text/plain": [
       "       price    year   manufacturer          model  cylinders fuel  odometer  \\\n",
       "60485  25800  2015.0           ford       explorer          6  gas   61351.0   \n",
       "60486  43991  2018.0  mercedes-benz        e-class          6  gas   31481.0   \n",
       "60487  33988  2019.0         toyota           rav4          4  gas    7836.0   \n",
       "60488  23993  2014.0           ford  expedition el          8  gas  101583.0   \n",
       "60489  18895  2019.0     volkswagen         tiguan          4  gas   24656.0   \n",
       "\n",
       "      transmission drive   type paint_color  condition_rank  title_status_rank  \n",
       "60485    automatic   4wd    SUV       black               3                  5  \n",
       "60486    automatic   rwd  coupe       white               3                  5  \n",
       "60487    automatic   4wd    SUV         red               3                  5  \n",
       "60488    automatic   4wd    SUV        grey               3                  5  \n",
       "60489    automatic   fwd    SUV       green               3                  5  "
      ]
     },
     "execution_count": 14,
     "metadata": {},
     "output_type": "execute_result"
    }
   ],
   "source": [
    "vehicles_data_SF = vehicles_data.query('region == \"SF bay area\" and price != 0').drop(columns = ['condition', 'title_status', 'state', 'region'])\n",
    "vehicles_data_SF.head()"
   ]
  },
  {
   "cell_type": "markdown",
   "metadata": {},
   "source": [
    "Then I convert all the remaining nominal values into numerical values using **leave one out encoding** (loo)."
   ]
  },
  {
   "cell_type": "code",
   "execution_count": 15,
   "metadata": {},
   "outputs": [
    {
     "data": {
      "text/html": [
       "<div>\n",
       "<style scoped>\n",
       "    .dataframe tbody tr th:only-of-type {\n",
       "        vertical-align: middle;\n",
       "    }\n",
       "\n",
       "    .dataframe tbody tr th {\n",
       "        vertical-align: top;\n",
       "    }\n",
       "\n",
       "    .dataframe thead th {\n",
       "        text-align: right;\n",
       "    }\n",
       "</style>\n",
       "<table border=\"1\" class=\"dataframe\">\n",
       "  <thead>\n",
       "    <tr style=\"text-align: right;\">\n",
       "      <th></th>\n",
       "      <th>year</th>\n",
       "      <th>manufacturer</th>\n",
       "      <th>model</th>\n",
       "      <th>cylinders</th>\n",
       "      <th>fuel</th>\n",
       "      <th>odometer</th>\n",
       "      <th>transmission</th>\n",
       "      <th>drive</th>\n",
       "      <th>type</th>\n",
       "      <th>paint_color</th>\n",
       "      <th>condition_rank</th>\n",
       "      <th>title_status_rank</th>\n",
       "    </tr>\n",
       "  </thead>\n",
       "  <tbody>\n",
       "    <tr>\n",
       "      <th>60485</th>\n",
       "      <td>2015.0</td>\n",
       "      <td>17456.134021</td>\n",
       "      <td>3250.00000</td>\n",
       "      <td>6</td>\n",
       "      <td>16314.885222</td>\n",
       "      <td>61351.0</td>\n",
       "      <td>16146.668821</td>\n",
       "      <td>21315.146341</td>\n",
       "      <td>16636.685714</td>\n",
       "      <td>19298.345070</td>\n",
       "      <td>3</td>\n",
       "      <td>5</td>\n",
       "    </tr>\n",
       "    <tr>\n",
       "      <th>60486</th>\n",
       "      <td>2018.0</td>\n",
       "      <td>24711.421053</td>\n",
       "      <td>17157.41906</td>\n",
       "      <td>6</td>\n",
       "      <td>16288.786227</td>\n",
       "      <td>31481.0</td>\n",
       "      <td>16117.281099</td>\n",
       "      <td>20299.970954</td>\n",
       "      <td>22041.516129</td>\n",
       "      <td>20649.777778</td>\n",
       "      <td>3</td>\n",
       "      <td>5</td>\n",
       "    </tr>\n",
       "    <tr>\n",
       "      <th>60487</th>\n",
       "      <td>2019.0</td>\n",
       "      <td>13321.292035</td>\n",
       "      <td>20244.00000</td>\n",
       "      <td>4</td>\n",
       "      <td>16303.137733</td>\n",
       "      <td>7836.0</td>\n",
       "      <td>16133.441034</td>\n",
       "      <td>21275.204878</td>\n",
       "      <td>16578.200000</td>\n",
       "      <td>17582.821429</td>\n",
       "      <td>3</td>\n",
       "      <td>5</td>\n",
       "    </tr>\n",
       "    <tr>\n",
       "      <th>60488</th>\n",
       "      <td>2014.0</td>\n",
       "      <td>17474.762887</td>\n",
       "      <td>1.00000</td>\n",
       "      <td>8</td>\n",
       "      <td>16317.477762</td>\n",
       "      <td>101583.0</td>\n",
       "      <td>16149.588045</td>\n",
       "      <td>21323.960976</td>\n",
       "      <td>16649.592857</td>\n",
       "      <td>14993.093458</td>\n",
       "      <td>3</td>\n",
       "      <td>5</td>\n",
       "    </tr>\n",
       "    <tr>\n",
       "      <th>60489</th>\n",
       "      <td>2019.0</td>\n",
       "      <td>11845.928571</td>\n",
       "      <td>9300.00000</td>\n",
       "      <td>4</td>\n",
       "      <td>16324.791966</td>\n",
       "      <td>24656.0</td>\n",
       "      <td>16157.823910</td>\n",
       "      <td>11962.141956</td>\n",
       "      <td>16686.007143</td>\n",
       "      <td>8995.678571</td>\n",
       "      <td>3</td>\n",
       "      <td>5</td>\n",
       "    </tr>\n",
       "  </tbody>\n",
       "</table>\n",
       "</div>"
      ],
      "text/plain": [
       "         year  manufacturer        model  cylinders          fuel  odometer  \\\n",
       "60485  2015.0  17456.134021   3250.00000          6  16314.885222   61351.0   \n",
       "60486  2018.0  24711.421053  17157.41906          6  16288.786227   31481.0   \n",
       "60487  2019.0  13321.292035  20244.00000          4  16303.137733    7836.0   \n",
       "60488  2014.0  17474.762887      1.00000          8  16317.477762  101583.0   \n",
       "60489  2019.0  11845.928571   9300.00000          4  16324.791966   24656.0   \n",
       "\n",
       "       transmission         drive          type   paint_color  condition_rank  \\\n",
       "60485  16146.668821  21315.146341  16636.685714  19298.345070               3   \n",
       "60486  16117.281099  20299.970954  22041.516129  20649.777778               3   \n",
       "60487  16133.441034  21275.204878  16578.200000  17582.821429               3   \n",
       "60488  16149.588045  21323.960976  16649.592857  14993.093458               3   \n",
       "60489  16157.823910  11962.141956  16686.007143   8995.678571               3   \n",
       "\n",
       "       title_status_rank  \n",
       "60485                  5  \n",
       "60486                  5  \n",
       "60487                  5  \n",
       "60488                  5  \n",
       "60489                  5  "
      ]
     },
     "execution_count": 15,
     "metadata": {},
     "output_type": "execute_result"
    }
   ],
   "source": [
    "vehicles_data_SF_loo = encoder.fit_transform(vehicles_data_SF.drop(columns = ['price']), vehicles_data_SF['price'])\n",
    "vehicles_data_SF_loo.head()"
   ]
  },
  {
   "cell_type": "markdown",
   "metadata": {},
   "source": [
    "#### 3.3.2) Gold Country-Modesto-Imperial County dataframe (medium population)"
   ]
  },
  {
   "cell_type": "markdown",
   "metadata": {},
   "source": [
    "Using query, I pull up only data from Gold Country, Modesto, and Imperial County as well as rows with price not equal to zero."
   ]
  },
  {
   "cell_type": "code",
   "execution_count": 16,
   "metadata": {},
   "outputs": [
    {
     "data": {
      "text/html": [
       "<div>\n",
       "<style scoped>\n",
       "    .dataframe tbody tr th:only-of-type {\n",
       "        vertical-align: middle;\n",
       "    }\n",
       "\n",
       "    .dataframe tbody tr th {\n",
       "        vertical-align: top;\n",
       "    }\n",
       "\n",
       "    .dataframe thead th {\n",
       "        text-align: right;\n",
       "    }\n",
       "</style>\n",
       "<table border=\"1\" class=\"dataframe\">\n",
       "  <thead>\n",
       "    <tr style=\"text-align: right;\">\n",
       "      <th></th>\n",
       "      <th>price</th>\n",
       "      <th>year</th>\n",
       "      <th>manufacturer</th>\n",
       "      <th>model</th>\n",
       "      <th>cylinders</th>\n",
       "      <th>fuel</th>\n",
       "      <th>odometer</th>\n",
       "      <th>transmission</th>\n",
       "      <th>drive</th>\n",
       "      <th>type</th>\n",
       "      <th>paint_color</th>\n",
       "      <th>condition_rank</th>\n",
       "      <th>title_status_rank</th>\n",
       "    </tr>\n",
       "  </thead>\n",
       "  <tbody>\n",
       "    <tr>\n",
       "      <th>28168</th>\n",
       "      <td>3895</td>\n",
       "      <td>2003.0</td>\n",
       "      <td>mercury</td>\n",
       "      <td>sable</td>\n",
       "      <td>6</td>\n",
       "      <td>gas</td>\n",
       "      <td>85750.0</td>\n",
       "      <td>automatic</td>\n",
       "      <td>fwd</td>\n",
       "      <td>sedan</td>\n",
       "      <td>white</td>\n",
       "      <td>3</td>\n",
       "      <td>5</td>\n",
       "    </tr>\n",
       "    <tr>\n",
       "      <th>28169</th>\n",
       "      <td>5000</td>\n",
       "      <td>2003.0</td>\n",
       "      <td>ford</td>\n",
       "      <td>explorer sport xlt</td>\n",
       "      <td>6</td>\n",
       "      <td>gas</td>\n",
       "      <td>145553.0</td>\n",
       "      <td>automatic</td>\n",
       "      <td>rwd</td>\n",
       "      <td>SUV</td>\n",
       "      <td>silver</td>\n",
       "      <td>2</td>\n",
       "      <td>5</td>\n",
       "    </tr>\n",
       "    <tr>\n",
       "      <th>28178</th>\n",
       "      <td>30590</td>\n",
       "      <td>2016.0</td>\n",
       "      <td>dodge</td>\n",
       "      <td>challenger r/t coupe 2d</td>\n",
       "      <td>8</td>\n",
       "      <td>gas</td>\n",
       "      <td>5937.0</td>\n",
       "      <td>other</td>\n",
       "      <td>rwd</td>\n",
       "      <td>coupe</td>\n",
       "      <td>black</td>\n",
       "      <td>2</td>\n",
       "      <td>5</td>\n",
       "    </tr>\n",
       "    <tr>\n",
       "      <th>28180</th>\n",
       "      <td>5850</td>\n",
       "      <td>2003.0</td>\n",
       "      <td>volkswagen</td>\n",
       "      <td>passat</td>\n",
       "      <td>6</td>\n",
       "      <td>gas</td>\n",
       "      <td>67000.0</td>\n",
       "      <td>automatic</td>\n",
       "      <td>4wd</td>\n",
       "      <td>wagon</td>\n",
       "      <td>silver</td>\n",
       "      <td>3</td>\n",
       "      <td>5</td>\n",
       "    </tr>\n",
       "    <tr>\n",
       "      <th>28191</th>\n",
       "      <td>1850</td>\n",
       "      <td>1997.0</td>\n",
       "      <td>ford</td>\n",
       "      <td>f150</td>\n",
       "      <td>8</td>\n",
       "      <td>gas</td>\n",
       "      <td>260000.0</td>\n",
       "      <td>automatic</td>\n",
       "      <td>rwd</td>\n",
       "      <td>pickup</td>\n",
       "      <td>silver</td>\n",
       "      <td>1</td>\n",
       "      <td>5</td>\n",
       "    </tr>\n",
       "  </tbody>\n",
       "</table>\n",
       "</div>"
      ],
      "text/plain": [
       "       price    year manufacturer                    model  cylinders fuel  \\\n",
       "28168   3895  2003.0      mercury                    sable          6  gas   \n",
       "28169   5000  2003.0         ford       explorer sport xlt          6  gas   \n",
       "28178  30590  2016.0        dodge  challenger r/t coupe 2d          8  gas   \n",
       "28180   5850  2003.0   volkswagen                   passat          6  gas   \n",
       "28191   1850  1997.0         ford                     f150          8  gas   \n",
       "\n",
       "       odometer transmission drive    type paint_color  condition_rank  \\\n",
       "28168   85750.0    automatic   fwd   sedan       white               3   \n",
       "28169  145553.0    automatic   rwd     SUV      silver               2   \n",
       "28178    5937.0        other   rwd   coupe       black               2   \n",
       "28180   67000.0    automatic   4wd   wagon      silver               3   \n",
       "28191  260000.0    automatic   rwd  pickup      silver               1   \n",
       "\n",
       "       title_status_rank  \n",
       "28168                  5  \n",
       "28169                  5  \n",
       "28178                  5  \n",
       "28180                  5  \n",
       "28191                  5  "
      ]
     },
     "execution_count": 16,
     "metadata": {},
     "output_type": "execute_result"
    }
   ],
   "source": [
    "medium_region = ['gold country', 'modesto', 'imperial county']\n",
    "vehicles_data_medium = vehicles_data.query('region in @medium_region and price != 0').drop(columns = ['condition', 'title_status', 'state', 'region'])\n",
    "vehicles_data_medium.head()"
   ]
  },
  {
   "cell_type": "markdown",
   "metadata": {},
   "source": [
    "Then I convert all the remaining nominal values into numerical values using **leave one out encoding** (loo)."
   ]
  },
  {
   "cell_type": "code",
   "execution_count": 17,
   "metadata": {},
   "outputs": [
    {
     "data": {
      "text/html": [
       "<div>\n",
       "<style scoped>\n",
       "    .dataframe tbody tr th:only-of-type {\n",
       "        vertical-align: middle;\n",
       "    }\n",
       "\n",
       "    .dataframe tbody tr th {\n",
       "        vertical-align: top;\n",
       "    }\n",
       "\n",
       "    .dataframe thead th {\n",
       "        text-align: right;\n",
       "    }\n",
       "</style>\n",
       "<table border=\"1\" class=\"dataframe\">\n",
       "  <thead>\n",
       "    <tr style=\"text-align: right;\">\n",
       "      <th></th>\n",
       "      <th>year</th>\n",
       "      <th>manufacturer</th>\n",
       "      <th>model</th>\n",
       "      <th>cylinders</th>\n",
       "      <th>fuel</th>\n",
       "      <th>odometer</th>\n",
       "      <th>transmission</th>\n",
       "      <th>drive</th>\n",
       "      <th>type</th>\n",
       "      <th>paint_color</th>\n",
       "      <th>condition_rank</th>\n",
       "      <th>title_status_rank</th>\n",
       "    </tr>\n",
       "  </thead>\n",
       "  <tbody>\n",
       "    <tr>\n",
       "      <th>28168</th>\n",
       "      <td>2003.0</td>\n",
       "      <td>15500.000000</td>\n",
       "      <td>14698.208719</td>\n",
       "      <td>6</td>\n",
       "      <td>14025.924609</td>\n",
       "      <td>85750.0</td>\n",
       "      <td>13253.867807</td>\n",
       "      <td>10663.409524</td>\n",
       "      <td>11217.754513</td>\n",
       "      <td>16254.405128</td>\n",
       "      <td>3</td>\n",
       "      <td>5</td>\n",
       "    </tr>\n",
       "    <tr>\n",
       "      <th>28169</th>\n",
       "      <td>2003.0</td>\n",
       "      <td>13743.679688</td>\n",
       "      <td>14698.208719</td>\n",
       "      <td>6</td>\n",
       "      <td>14024.352774</td>\n",
       "      <td>145553.0</td>\n",
       "      <td>13252.149300</td>\n",
       "      <td>16575.427350</td>\n",
       "      <td>14232.693878</td>\n",
       "      <td>11992.702128</td>\n",
       "      <td>2</td>\n",
       "      <td>5</td>\n",
       "    </tr>\n",
       "    <tr>\n",
       "      <th>28178</th>\n",
       "      <td>2016.0</td>\n",
       "      <td>16409.129032</td>\n",
       "      <td>14698.208719</td>\n",
       "      <td>8</td>\n",
       "      <td>13987.951636</td>\n",
       "      <td>5937.0</td>\n",
       "      <td>32951.403509</td>\n",
       "      <td>16466.068376</td>\n",
       "      <td>19864.313433</td>\n",
       "      <td>16977.176000</td>\n",
       "      <td>2</td>\n",
       "      <td>5</td>\n",
       "    </tr>\n",
       "    <tr>\n",
       "      <th>28180</th>\n",
       "      <td>2003.0</td>\n",
       "      <td>6668.142857</td>\n",
       "      <td>9995.000000</td>\n",
       "      <td>6</td>\n",
       "      <td>14023.143670</td>\n",
       "      <td>67000.0</td>\n",
       "      <td>13250.827372</td>\n",
       "      <td>18898.414634</td>\n",
       "      <td>10250.454545</td>\n",
       "      <td>11986.673759</td>\n",
       "      <td>3</td>\n",
       "      <td>5</td>\n",
       "    </tr>\n",
       "    <tr>\n",
       "      <th>28191</th>\n",
       "      <td>1997.0</td>\n",
       "      <td>13768.289062</td>\n",
       "      <td>14698.208719</td>\n",
       "      <td>8</td>\n",
       "      <td>14028.833570</td>\n",
       "      <td>260000.0</td>\n",
       "      <td>13257.048212</td>\n",
       "      <td>16588.888889</td>\n",
       "      <td>21868.291139</td>\n",
       "      <td>12015.042553</td>\n",
       "      <td>1</td>\n",
       "      <td>5</td>\n",
       "    </tr>\n",
       "  </tbody>\n",
       "</table>\n",
       "</div>"
      ],
      "text/plain": [
       "         year  manufacturer         model  cylinders          fuel  odometer  \\\n",
       "28168  2003.0  15500.000000  14698.208719          6  14025.924609   85750.0   \n",
       "28169  2003.0  13743.679688  14698.208719          6  14024.352774  145553.0   \n",
       "28178  2016.0  16409.129032  14698.208719          8  13987.951636    5937.0   \n",
       "28180  2003.0   6668.142857   9995.000000          6  14023.143670   67000.0   \n",
       "28191  1997.0  13768.289062  14698.208719          8  14028.833570  260000.0   \n",
       "\n",
       "       transmission         drive          type   paint_color  condition_rank  \\\n",
       "28168  13253.867807  10663.409524  11217.754513  16254.405128               3   \n",
       "28169  13252.149300  16575.427350  14232.693878  11992.702128               2   \n",
       "28178  32951.403509  16466.068376  19864.313433  16977.176000               2   \n",
       "28180  13250.827372  18898.414634  10250.454545  11986.673759               3   \n",
       "28191  13257.048212  16588.888889  21868.291139  12015.042553               1   \n",
       "\n",
       "       title_status_rank  \n",
       "28168                  5  \n",
       "28169                  5  \n",
       "28178                  5  \n",
       "28180                  5  \n",
       "28191                  5  "
      ]
     },
     "execution_count": 17,
     "metadata": {},
     "output_type": "execute_result"
    }
   ],
   "source": [
    "vehicles_data_medium_loo = encoder.fit_transform(vehicles_data_medium.drop(columns = ['price']), vehicles_data_medium['price'])\n",
    "vehicles_data_medium_loo.head()"
   ]
  },
  {
   "cell_type": "markdown",
   "metadata": {},
   "source": [
    "#### 3.3.3) San Luis Obispo-Monterey Bay-Siskiyou County dataframe (lower population)"
   ]
  },
  {
   "cell_type": "markdown",
   "metadata": {},
   "source": [
    "Using query, I pull up only data from San Luis Obispo, Monterey Bay, and Siskiyou County as well as rows with price not equal to zero."
   ]
  },
  {
   "cell_type": "code",
   "execution_count": 18,
   "metadata": {},
   "outputs": [
    {
     "data": {
      "text/html": [
       "<div>\n",
       "<style scoped>\n",
       "    .dataframe tbody tr th:only-of-type {\n",
       "        vertical-align: middle;\n",
       "    }\n",
       "\n",
       "    .dataframe tbody tr th {\n",
       "        vertical-align: top;\n",
       "    }\n",
       "\n",
       "    .dataframe thead th {\n",
       "        text-align: right;\n",
       "    }\n",
       "</style>\n",
       "<table border=\"1\" class=\"dataframe\">\n",
       "  <thead>\n",
       "    <tr style=\"text-align: right;\">\n",
       "      <th></th>\n",
       "      <th>price</th>\n",
       "      <th>year</th>\n",
       "      <th>manufacturer</th>\n",
       "      <th>model</th>\n",
       "      <th>cylinders</th>\n",
       "      <th>fuel</th>\n",
       "      <th>odometer</th>\n",
       "      <th>transmission</th>\n",
       "      <th>drive</th>\n",
       "      <th>type</th>\n",
       "      <th>paint_color</th>\n",
       "      <th>condition_rank</th>\n",
       "      <th>title_status_rank</th>\n",
       "    </tr>\n",
       "  </thead>\n",
       "  <tbody>\n",
       "    <tr>\n",
       "      <th>39532</th>\n",
       "      <td>26990</td>\n",
       "      <td>2017.0</td>\n",
       "      <td>nissan</td>\n",
       "      <td>titan single cab sv</td>\n",
       "      <td>8</td>\n",
       "      <td>gas</td>\n",
       "      <td>41335.0</td>\n",
       "      <td>other</td>\n",
       "      <td>4wd</td>\n",
       "      <td>pickup</td>\n",
       "      <td>red</td>\n",
       "      <td>2</td>\n",
       "      <td>5</td>\n",
       "    </tr>\n",
       "    <tr>\n",
       "      <th>39534</th>\n",
       "      <td>16995</td>\n",
       "      <td>2017.0</td>\n",
       "      <td>honda</td>\n",
       "      <td>civic sedan lx</td>\n",
       "      <td>4</td>\n",
       "      <td>gas</td>\n",
       "      <td>41179.0</td>\n",
       "      <td>other</td>\n",
       "      <td>fwd</td>\n",
       "      <td>sedan</td>\n",
       "      <td>black</td>\n",
       "      <td>2</td>\n",
       "      <td>5</td>\n",
       "    </tr>\n",
       "    <tr>\n",
       "      <th>39535</th>\n",
       "      <td>16995</td>\n",
       "      <td>2015.0</td>\n",
       "      <td>chevrolet</td>\n",
       "      <td>camaro lt</td>\n",
       "      <td>6</td>\n",
       "      <td>gas</td>\n",
       "      <td>95644.0</td>\n",
       "      <td>automatic</td>\n",
       "      <td>rwd</td>\n",
       "      <td>coupe</td>\n",
       "      <td>black</td>\n",
       "      <td>2</td>\n",
       "      <td>5</td>\n",
       "    </tr>\n",
       "    <tr>\n",
       "      <th>39536</th>\n",
       "      <td>5895</td>\n",
       "      <td>2007.0</td>\n",
       "      <td>honda</td>\n",
       "      <td>accord sdn</td>\n",
       "      <td>4</td>\n",
       "      <td>gas</td>\n",
       "      <td>152480.0</td>\n",
       "      <td>automatic</td>\n",
       "      <td>fwd</td>\n",
       "      <td>sedan</td>\n",
       "      <td>blue</td>\n",
       "      <td>3</td>\n",
       "      <td>5</td>\n",
       "    </tr>\n",
       "    <tr>\n",
       "      <th>39539</th>\n",
       "      <td>34950</td>\n",
       "      <td>2013.0</td>\n",
       "      <td>gmc</td>\n",
       "      <td>sierra 1500</td>\n",
       "      <td>8</td>\n",
       "      <td>gas</td>\n",
       "      <td>67708.0</td>\n",
       "      <td>automatic</td>\n",
       "      <td>4wd</td>\n",
       "      <td>truck</td>\n",
       "      <td>black</td>\n",
       "      <td>3</td>\n",
       "      <td>5</td>\n",
       "    </tr>\n",
       "  </tbody>\n",
       "</table>\n",
       "</div>"
      ],
      "text/plain": [
       "       price    year manufacturer                model  cylinders fuel  \\\n",
       "39532  26990  2017.0       nissan  titan single cab sv          8  gas   \n",
       "39534  16995  2017.0        honda       civic sedan lx          4  gas   \n",
       "39535  16995  2015.0    chevrolet            camaro lt          6  gas   \n",
       "39536   5895  2007.0        honda           accord sdn          4  gas   \n",
       "39539  34950  2013.0          gmc          sierra 1500          8  gas   \n",
       "\n",
       "       odometer transmission drive    type paint_color  condition_rank  \\\n",
       "39532   41335.0        other   4wd  pickup         red               2   \n",
       "39534   41179.0        other   fwd   sedan       black               2   \n",
       "39535   95644.0    automatic   rwd   coupe       black               2   \n",
       "39536  152480.0    automatic   fwd   sedan        blue               3   \n",
       "39539   67708.0    automatic   4wd   truck       black               3   \n",
       "\n",
       "       title_status_rank  \n",
       "39532                  5  \n",
       "39534                  5  \n",
       "39535                  5  \n",
       "39536                  5  \n",
       "39539                  5  "
      ]
     },
     "execution_count": 18,
     "metadata": {},
     "output_type": "execute_result"
    }
   ],
   "source": [
    "low_region = ['san luis obispo', 'monterey bay', 'siskiyou county']\n",
    "vehicles_data_low = vehicles_data.query('region in @low_region and price != 0').drop(columns = ['condition', 'title_status', 'state', 'region'])\n",
    "vehicles_data_low.head()"
   ]
  },
  {
   "cell_type": "markdown",
   "metadata": {},
   "source": [
    "Then I convert all the remaining nominal values into numerical values using **leave one out encoding** (loo)."
   ]
  },
  {
   "cell_type": "code",
   "execution_count": 19,
   "metadata": {},
   "outputs": [
    {
     "data": {
      "text/html": [
       "<div>\n",
       "<style scoped>\n",
       "    .dataframe tbody tr th:only-of-type {\n",
       "        vertical-align: middle;\n",
       "    }\n",
       "\n",
       "    .dataframe tbody tr th {\n",
       "        vertical-align: top;\n",
       "    }\n",
       "\n",
       "    .dataframe thead th {\n",
       "        text-align: right;\n",
       "    }\n",
       "</style>\n",
       "<table border=\"1\" class=\"dataframe\">\n",
       "  <thead>\n",
       "    <tr style=\"text-align: right;\">\n",
       "      <th></th>\n",
       "      <th>year</th>\n",
       "      <th>manufacturer</th>\n",
       "      <th>model</th>\n",
       "      <th>cylinders</th>\n",
       "      <th>fuel</th>\n",
       "      <th>odometer</th>\n",
       "      <th>transmission</th>\n",
       "      <th>drive</th>\n",
       "      <th>type</th>\n",
       "      <th>paint_color</th>\n",
       "      <th>condition_rank</th>\n",
       "      <th>title_status_rank</th>\n",
       "    </tr>\n",
       "  </thead>\n",
       "  <tbody>\n",
       "    <tr>\n",
       "      <th>39532</th>\n",
       "      <td>2017.0</td>\n",
       "      <td>11581.300000</td>\n",
       "      <td>18106.799476</td>\n",
       "      <td>8</td>\n",
       "      <td>17040.027299</td>\n",
       "      <td>41335.0</td>\n",
       "      <td>29265.393258</td>\n",
       "      <td>24630.639810</td>\n",
       "      <td>26662.173913</td>\n",
       "      <td>19600.924528</td>\n",
       "      <td>2</td>\n",
       "      <td>5</td>\n",
       "    </tr>\n",
       "    <tr>\n",
       "      <th>39534</th>\n",
       "      <td>2017.0</td>\n",
       "      <td>9197.892308</td>\n",
       "      <td>16995.000000</td>\n",
       "      <td>4</td>\n",
       "      <td>17054.387931</td>\n",
       "      <td>41179.0</td>\n",
       "      <td>29377.696629</td>\n",
       "      <td>11057.153543</td>\n",
       "      <td>13431.418605</td>\n",
       "      <td>19855.981481</td>\n",
       "      <td>2</td>\n",
       "      <td>5</td>\n",
       "    </tr>\n",
       "    <tr>\n",
       "      <th>39535</th>\n",
       "      <td>2015.0</td>\n",
       "      <td>20886.913043</td>\n",
       "      <td>16995.000000</td>\n",
       "      <td>6</td>\n",
       "      <td>17054.387931</td>\n",
       "      <td>95644.0</td>\n",
       "      <td>17333.929160</td>\n",
       "      <td>19487.884746</td>\n",
       "      <td>15593.857143</td>\n",
       "      <td>19855.981481</td>\n",
       "      <td>2</td>\n",
       "      <td>5</td>\n",
       "    </tr>\n",
       "    <tr>\n",
       "      <th>39536</th>\n",
       "      <td>2007.0</td>\n",
       "      <td>9368.661538</td>\n",
       "      <td>6209.125000</td>\n",
       "      <td>4</td>\n",
       "      <td>17070.336207</td>\n",
       "      <td>152480.0</td>\n",
       "      <td>17352.215815</td>\n",
       "      <td>11100.854331</td>\n",
       "      <td>13495.953488</td>\n",
       "      <td>13172.061728</td>\n",
       "      <td>3</td>\n",
       "      <td>5</td>\n",
       "    </tr>\n",
       "    <tr>\n",
       "      <th>39539</th>\n",
       "      <td>2013.0</td>\n",
       "      <td>20068.500000</td>\n",
       "      <td>11961.000000</td>\n",
       "      <td>8</td>\n",
       "      <td>17028.590517</td>\n",
       "      <td>67708.0</td>\n",
       "      <td>17304.349259</td>\n",
       "      <td>24592.914692</td>\n",
       "      <td>24966.269504</td>\n",
       "      <td>19689.731481</td>\n",
       "      <td>3</td>\n",
       "      <td>5</td>\n",
       "    </tr>\n",
       "  </tbody>\n",
       "</table>\n",
       "</div>"
      ],
      "text/plain": [
       "         year  manufacturer         model  cylinders          fuel  odometer  \\\n",
       "39532  2017.0  11581.300000  18106.799476          8  17040.027299   41335.0   \n",
       "39534  2017.0   9197.892308  16995.000000          4  17054.387931   41179.0   \n",
       "39535  2015.0  20886.913043  16995.000000          6  17054.387931   95644.0   \n",
       "39536  2007.0   9368.661538   6209.125000          4  17070.336207  152480.0   \n",
       "39539  2013.0  20068.500000  11961.000000          8  17028.590517   67708.0   \n",
       "\n",
       "       transmission         drive          type   paint_color  condition_rank  \\\n",
       "39532  29265.393258  24630.639810  26662.173913  19600.924528               2   \n",
       "39534  29377.696629  11057.153543  13431.418605  19855.981481               2   \n",
       "39535  17333.929160  19487.884746  15593.857143  19855.981481               2   \n",
       "39536  17352.215815  11100.854331  13495.953488  13172.061728               3   \n",
       "39539  17304.349259  24592.914692  24966.269504  19689.731481               3   \n",
       "\n",
       "       title_status_rank  \n",
       "39532                  5  \n",
       "39534                  5  \n",
       "39535                  5  \n",
       "39536                  5  \n",
       "39539                  5  "
      ]
     },
     "execution_count": 19,
     "metadata": {},
     "output_type": "execute_result"
    }
   ],
   "source": [
    "vehicles_data_low_loo = encoder.fit_transform(vehicles_data_low.drop(columns = ['price']), vehicles_data_low['price'])\n",
    "vehicles_data_low_loo.head()"
   ]
  },
  {
   "cell_type": "markdown",
   "metadata": {},
   "source": [
    "### 4) Modeling\n",
    "\n",
    "With your (almost?) final dataset in hand, it is now time to build some models.  Here, you should build a number of different regression models with the price as the target.  In building your models, you should explore different parameters and be sure to cross-validate your findings."
   ]
  },
  {
   "cell_type": "markdown",
   "metadata": {},
   "source": [
    "### Steps taken to build models from data\n",
    "\n",
    "**Section 4.1:** Build training and test sets for each of region datasets\n",
    "- **Section 4.1.1:** SF bay area dataset\n",
    "- **Section 4.1.2:** Gold Country-Modesto-Imperial County dataset\n",
    "- **Section 4.1.3:** San Luis Obispo-Monterey Bay-Siskiyou County dataset\n",
    "\n",
    "\n",
    "**Section 4.2:** Model Fitting: **Ridge Regression** (Use **GridSearchCV** with **10-fold cross-validation** to determine the optimal alpha value to use for each of the three regions' dataset. **Evaluation metric used: MSE**)\n",
    "- **Section 4.2.1:** SF bay area dataset\n",
    "- **Section 4.2.2:** Gold Country-Modesto-Imperial County dataset\n",
    "- **Section 4.2.3:** San Luis Obispo-Monterey Bay-Siskiyou County dataset"
   ]
  },
  {
   "cell_type": "markdown",
   "metadata": {},
   "source": [
    "### 4.1) Build training and test sets"
   ]
  },
  {
   "cell_type": "markdown",
   "metadata": {},
   "source": [
    "#### 4.1.1) SF bay area dataset"
   ]
  },
  {
   "cell_type": "code",
   "execution_count": 20,
   "metadata": {},
   "outputs": [],
   "source": [
    "X_SF = vehicles_data_SF_loo\n",
    "y_SF = vehicles_data_SF['price']\n",
    "\n",
    "X_train_SF, X_test_SF, y_train_SF, y_test_SF = train_test_split(X_SF, y_SF, test_size = 0.3, random_state =42)"
   ]
  },
  {
   "cell_type": "markdown",
   "metadata": {},
   "source": [
    "#### 4.1.2) Gold Country-Modesto-Imperial County dataset"
   ]
  },
  {
   "cell_type": "code",
   "execution_count": 21,
   "metadata": {},
   "outputs": [],
   "source": [
    "X_medium = vehicles_data_medium_loo\n",
    "y_medium = vehicles_data_medium['price']\n",
    "\n",
    "X_train_medium, X_test_medium, y_train_medium, y_test_medium = train_test_split(X_medium, y_medium, test_size = 0.3, random_state = 42)"
   ]
  },
  {
   "cell_type": "markdown",
   "metadata": {},
   "source": [
    "#### 4.1.3) San Luis Obispo-Monterey Bay-Siskiyou County dataset"
   ]
  },
  {
   "cell_type": "code",
   "execution_count": 22,
   "metadata": {},
   "outputs": [],
   "source": [
    "X_low = vehicles_data_low_loo\n",
    "y_low = vehicles_data_low['price']\n",
    "\n",
    "X_train_low, X_test_low, y_train_low, y_test_low = train_test_split(X_low, y_low, test_size = 0.3, random_state = 42)"
   ]
  },
  {
   "cell_type": "markdown",
   "metadata": {},
   "source": [
    "### 4.2) Model Fitting\n",
    "\n",
    "**Ridge Regression**\n",
    "\n",
    "After setting up the three different dataframes, machine learning models based off of ridge regression will be used to model the three different datasets to predict car price.\n",
    "\n",
    "But first, we need to **determine the optimal alpha parameter.**"
   ]
  },
  {
   "cell_type": "markdown",
   "metadata": {},
   "source": [
    "1) Create an unfit model"
   ]
  },
  {
   "cell_type": "code",
   "execution_count": 23,
   "metadata": {},
   "outputs": [],
   "source": [
    "scaled_ridge_model = Pipeline([\n",
    "    ('scale', StandardScaler()),\n",
    "    ('ridge', Ridge(random_state = 42))\n",
    "])"
   ]
  },
  {
   "cell_type": "markdown",
   "metadata": {},
   "source": [
    "2) Create a python dictionary of all the hyperparameters and the alpha values that we want to try out"
   ]
  },
  {
   "cell_type": "code",
   "execution_count": 24,
   "metadata": {},
   "outputs": [],
   "source": [
    "parameters_to_try = {'ridge__alpha': 10**np.linspace(-5, 4, 100)}"
   ]
  },
  {
   "cell_type": "markdown",
   "metadata": {},
   "source": [
    "From here, we will use **GridSearchCV** with **10-fold cross-validation** to determine the optimal alpha value to use for each of the three regions' dataset."
   ]
  },
  {
   "cell_type": "markdown",
   "metadata": {},
   "source": [
    "#### 4.2.1) SF bay area dataset"
   ]
  },
  {
   "cell_type": "markdown",
   "metadata": {},
   "source": [
    "Determine optimal alpha value:"
   ]
  },
  {
   "cell_type": "code",
   "execution_count": 25,
   "metadata": {},
   "outputs": [],
   "source": [
    "model_finder_SF = GridSearchCV(estimator = scaled_ridge_model,\n",
    "                           param_grid = parameters_to_try,\n",
    "                           cv = 10)"
   ]
  },
  {
   "cell_type": "code",
   "execution_count": 26,
   "metadata": {},
   "outputs": [
    {
     "data": {
      "text/plain": [
       "{'ridge__alpha': 43.287612810830616}"
      ]
     },
     "execution_count": 26,
     "metadata": {},
     "output_type": "execute_result"
    }
   ],
   "source": [
    "model_finder_SF.fit(X_train_SF, y_train_SF)\n",
    "model_finder_SF.best_params_ "
   ]
  },
  {
   "cell_type": "markdown",
   "metadata": {},
   "source": [
    "Determine model coefficients:"
   ]
  },
  {
   "cell_type": "code",
   "execution_count": 27,
   "metadata": {},
   "outputs": [],
   "source": [
    "scaled_ridge_alpha_SF = Pipeline([\n",
    "    ('scale', StandardScaler()),\n",
    "    ('ridge', Ridge(alpha = 43.287612810830616, random_state = 42))\n",
    "])"
   ]
  },
  {
   "cell_type": "code",
   "execution_count": 28,
   "metadata": {},
   "outputs": [
    {
     "data": {
      "text/html": [
       "<style>#sk-eabf48a8-9c6e-430b-a348-46c75bf13cb8 {color: black;background-color: white;}#sk-eabf48a8-9c6e-430b-a348-46c75bf13cb8 pre{padding: 0;}#sk-eabf48a8-9c6e-430b-a348-46c75bf13cb8 div.sk-toggleable {background-color: white;}#sk-eabf48a8-9c6e-430b-a348-46c75bf13cb8 label.sk-toggleable__label {cursor: pointer;display: block;width: 100%;margin-bottom: 0;padding: 0.3em;box-sizing: border-box;text-align: center;}#sk-eabf48a8-9c6e-430b-a348-46c75bf13cb8 label.sk-toggleable__label-arrow:before {content: \"▸\";float: left;margin-right: 0.25em;color: #696969;}#sk-eabf48a8-9c6e-430b-a348-46c75bf13cb8 label.sk-toggleable__label-arrow:hover:before {color: black;}#sk-eabf48a8-9c6e-430b-a348-46c75bf13cb8 div.sk-estimator:hover label.sk-toggleable__label-arrow:before {color: black;}#sk-eabf48a8-9c6e-430b-a348-46c75bf13cb8 div.sk-toggleable__content {max-height: 0;max-width: 0;overflow: hidden;text-align: left;background-color: #f0f8ff;}#sk-eabf48a8-9c6e-430b-a348-46c75bf13cb8 div.sk-toggleable__content pre {margin: 0.2em;color: black;border-radius: 0.25em;background-color: #f0f8ff;}#sk-eabf48a8-9c6e-430b-a348-46c75bf13cb8 input.sk-toggleable__control:checked~div.sk-toggleable__content {max-height: 200px;max-width: 100%;overflow: auto;}#sk-eabf48a8-9c6e-430b-a348-46c75bf13cb8 input.sk-toggleable__control:checked~label.sk-toggleable__label-arrow:before {content: \"▾\";}#sk-eabf48a8-9c6e-430b-a348-46c75bf13cb8 div.sk-estimator input.sk-toggleable__control:checked~label.sk-toggleable__label {background-color: #d4ebff;}#sk-eabf48a8-9c6e-430b-a348-46c75bf13cb8 div.sk-label input.sk-toggleable__control:checked~label.sk-toggleable__label {background-color: #d4ebff;}#sk-eabf48a8-9c6e-430b-a348-46c75bf13cb8 input.sk-hidden--visually {border: 0;clip: rect(1px 1px 1px 1px);clip: rect(1px, 1px, 1px, 1px);height: 1px;margin: -1px;overflow: hidden;padding: 0;position: absolute;width: 1px;}#sk-eabf48a8-9c6e-430b-a348-46c75bf13cb8 div.sk-estimator {font-family: monospace;background-color: #f0f8ff;border: 1px dotted black;border-radius: 0.25em;box-sizing: border-box;margin-bottom: 0.5em;}#sk-eabf48a8-9c6e-430b-a348-46c75bf13cb8 div.sk-estimator:hover {background-color: #d4ebff;}#sk-eabf48a8-9c6e-430b-a348-46c75bf13cb8 div.sk-parallel-item::after {content: \"\";width: 100%;border-bottom: 1px solid gray;flex-grow: 1;}#sk-eabf48a8-9c6e-430b-a348-46c75bf13cb8 div.sk-label:hover label.sk-toggleable__label {background-color: #d4ebff;}#sk-eabf48a8-9c6e-430b-a348-46c75bf13cb8 div.sk-serial::before {content: \"\";position: absolute;border-left: 1px solid gray;box-sizing: border-box;top: 2em;bottom: 0;left: 50%;}#sk-eabf48a8-9c6e-430b-a348-46c75bf13cb8 div.sk-serial {display: flex;flex-direction: column;align-items: center;background-color: white;padding-right: 0.2em;padding-left: 0.2em;}#sk-eabf48a8-9c6e-430b-a348-46c75bf13cb8 div.sk-item {z-index: 1;}#sk-eabf48a8-9c6e-430b-a348-46c75bf13cb8 div.sk-parallel {display: flex;align-items: stretch;justify-content: center;background-color: white;}#sk-eabf48a8-9c6e-430b-a348-46c75bf13cb8 div.sk-parallel::before {content: \"\";position: absolute;border-left: 1px solid gray;box-sizing: border-box;top: 2em;bottom: 0;left: 50%;}#sk-eabf48a8-9c6e-430b-a348-46c75bf13cb8 div.sk-parallel-item {display: flex;flex-direction: column;position: relative;background-color: white;}#sk-eabf48a8-9c6e-430b-a348-46c75bf13cb8 div.sk-parallel-item:first-child::after {align-self: flex-end;width: 50%;}#sk-eabf48a8-9c6e-430b-a348-46c75bf13cb8 div.sk-parallel-item:last-child::after {align-self: flex-start;width: 50%;}#sk-eabf48a8-9c6e-430b-a348-46c75bf13cb8 div.sk-parallel-item:only-child::after {width: 0;}#sk-eabf48a8-9c6e-430b-a348-46c75bf13cb8 div.sk-dashed-wrapped {border: 1px dashed gray;margin: 0 0.4em 0.5em 0.4em;box-sizing: border-box;padding-bottom: 0.4em;background-color: white;position: relative;}#sk-eabf48a8-9c6e-430b-a348-46c75bf13cb8 div.sk-label label {font-family: monospace;font-weight: bold;background-color: white;display: inline-block;line-height: 1.2em;}#sk-eabf48a8-9c6e-430b-a348-46c75bf13cb8 div.sk-label-container {position: relative;z-index: 2;text-align: center;}#sk-eabf48a8-9c6e-430b-a348-46c75bf13cb8 div.sk-container {/* jupyter's `normalize.less` sets `[hidden] { display: none; }` but bootstrap.min.css set `[hidden] { display: none !important; }` so we also need the `!important` here to be able to override the default hidden behavior on the sphinx rendered scikit-learn.org. See: https://github.com/scikit-learn/scikit-learn/issues/21755 */display: inline-block !important;position: relative;}#sk-eabf48a8-9c6e-430b-a348-46c75bf13cb8 div.sk-text-repr-fallback {display: none;}</style><div id=\"sk-eabf48a8-9c6e-430b-a348-46c75bf13cb8\" class=\"sk-top-container\"><div class=\"sk-text-repr-fallback\"><pre>Pipeline(steps=[(&#x27;scale&#x27;, StandardScaler()),\n",
       "                (&#x27;ridge&#x27;, Ridge(alpha=43.287612810830616, random_state=42))])</pre><b>Please rerun this cell to show the HTML repr or trust the notebook.</b></div><div class=\"sk-container\" hidden><div class=\"sk-item sk-dashed-wrapped\"><div class=\"sk-label-container\"><div class=\"sk-label sk-toggleable\"><input class=\"sk-toggleable__control sk-hidden--visually\" id=\"162f2a68-1178-4a07-a2dd-cc2fcd2e077a\" type=\"checkbox\" ><label for=\"162f2a68-1178-4a07-a2dd-cc2fcd2e077a\" class=\"sk-toggleable__label sk-toggleable__label-arrow\">Pipeline</label><div class=\"sk-toggleable__content\"><pre>Pipeline(steps=[(&#x27;scale&#x27;, StandardScaler()),\n",
       "                (&#x27;ridge&#x27;, Ridge(alpha=43.287612810830616, random_state=42))])</pre></div></div></div><div class=\"sk-serial\"><div class=\"sk-item\"><div class=\"sk-estimator sk-toggleable\"><input class=\"sk-toggleable__control sk-hidden--visually\" id=\"2ff1f7af-e8f4-4aea-9536-5bb7d0a2474e\" type=\"checkbox\" ><label for=\"2ff1f7af-e8f4-4aea-9536-5bb7d0a2474e\" class=\"sk-toggleable__label sk-toggleable__label-arrow\">StandardScaler</label><div class=\"sk-toggleable__content\"><pre>StandardScaler()</pre></div></div></div><div class=\"sk-item\"><div class=\"sk-estimator sk-toggleable\"><input class=\"sk-toggleable__control sk-hidden--visually\" id=\"df581b42-4b21-4ad8-9cfd-4db5572bce6a\" type=\"checkbox\" ><label for=\"df581b42-4b21-4ad8-9cfd-4db5572bce6a\" class=\"sk-toggleable__label sk-toggleable__label-arrow\">Ridge</label><div class=\"sk-toggleable__content\"><pre>Ridge(alpha=43.287612810830616, random_state=42)</pre></div></div></div></div></div></div></div>"
      ],
      "text/plain": [
       "Pipeline(steps=[('scale', StandardScaler()),\n",
       "                ('ridge', Ridge(alpha=43.287612810830616, random_state=42))])"
      ]
     },
     "execution_count": 28,
     "metadata": {},
     "output_type": "execute_result"
    }
   ],
   "source": [
    "scaled_ridge_alpha_SF.fit(X_train_SF, y_train_SF)"
   ]
  },
  {
   "cell_type": "code",
   "execution_count": 29,
   "metadata": {},
   "outputs": [
    {
     "data": {
      "text/html": [
       "<div>\n",
       "<style scoped>\n",
       "    .dataframe tbody tr th:only-of-type {\n",
       "        vertical-align: middle;\n",
       "    }\n",
       "\n",
       "    .dataframe tbody tr th {\n",
       "        vertical-align: top;\n",
       "    }\n",
       "\n",
       "    .dataframe thead th {\n",
       "        text-align: right;\n",
       "    }\n",
       "</style>\n",
       "<table border=\"1\" class=\"dataframe\">\n",
       "  <thead>\n",
       "    <tr style=\"text-align: right;\">\n",
       "      <th></th>\n",
       "      <th>coefficients</th>\n",
       "    </tr>\n",
       "  </thead>\n",
       "  <tbody>\n",
       "    <tr>\n",
       "      <th>odometer</th>\n",
       "      <td>-7481.745823</td>\n",
       "    </tr>\n",
       "    <tr>\n",
       "      <th>transmission</th>\n",
       "      <td>255.513795</td>\n",
       "    </tr>\n",
       "    <tr>\n",
       "      <th>paint_color</th>\n",
       "      <td>320.489529</td>\n",
       "    </tr>\n",
       "    <tr>\n",
       "      <th>title_status_rank</th>\n",
       "      <td>731.258157</td>\n",
       "    </tr>\n",
       "    <tr>\n",
       "      <th>manufacturer</th>\n",
       "      <td>898.276010</td>\n",
       "    </tr>\n",
       "    <tr>\n",
       "      <th>type</th>\n",
       "      <td>1027.376932</td>\n",
       "    </tr>\n",
       "    <tr>\n",
       "      <th>model</th>\n",
       "      <td>1100.793474</td>\n",
       "    </tr>\n",
       "    <tr>\n",
       "      <th>cylinders</th>\n",
       "      <td>1610.353672</td>\n",
       "    </tr>\n",
       "    <tr>\n",
       "      <th>condition_rank</th>\n",
       "      <td>1666.492874</td>\n",
       "    </tr>\n",
       "    <tr>\n",
       "      <th>year</th>\n",
       "      <td>1746.688281</td>\n",
       "    </tr>\n",
       "    <tr>\n",
       "      <th>fuel</th>\n",
       "      <td>1991.390377</td>\n",
       "    </tr>\n",
       "    <tr>\n",
       "      <th>drive</th>\n",
       "      <td>3039.202928</td>\n",
       "    </tr>\n",
       "  </tbody>\n",
       "</table>\n",
       "</div>"
      ],
      "text/plain": [
       "                   coefficients\n",
       "odometer           -7481.745823\n",
       "transmission         255.513795\n",
       "paint_color          320.489529\n",
       "title_status_rank    731.258157\n",
       "manufacturer         898.276010\n",
       "type                1027.376932\n",
       "model               1100.793474\n",
       "cylinders           1610.353672\n",
       "condition_rank      1666.492874\n",
       "year                1746.688281\n",
       "fuel                1991.390377\n",
       "drive               3039.202928"
      ]
     },
     "execution_count": 29,
     "metadata": {},
     "output_type": "execute_result"
    }
   ],
   "source": [
    "feature_names_SF = scaled_ridge_alpha_SF[:-1].get_feature_names_out()\n",
    "\n",
    "coefs_SF = pd.DataFrame(\n",
    "    scaled_ridge_alpha_SF[-1].coef_,\n",
    "    columns = [\"coefficients\"],\n",
    "    index = feature_names_SF\n",
    ")\n",
    "\n",
    "coefs_SF.sort_values('coefficients')"
   ]
  },
  {
   "cell_type": "markdown",
   "metadata": {},
   "source": [
    "Evaluation metric: **MSE**"
   ]
  },
  {
   "cell_type": "code",
   "execution_count": 30,
   "metadata": {},
   "outputs": [
    {
     "name": "stdout",
     "output_type": "stream",
     "text": [
      "training mse:  122889990.38554807\n",
      "test mse:  158152669.93544713\n"
     ]
    }
   ],
   "source": [
    "# Training mse\n",
    "train_mse_SF = mean_squared_error(y_train_SF, scaled_ridge_alpha_SF.predict(X_train_SF))\n",
    "\n",
    "# Test mse\n",
    "test_mse_SF = mean_squared_error(y_test_SF, scaled_ridge_alpha_SF.predict(X_test_SF))\n",
    "\n",
    "print('training mse: ', train_mse_SF)\n",
    "print('test mse: ', test_mse_SF)"
   ]
  },
  {
   "cell_type": "markdown",
   "metadata": {},
   "source": [
    "#### 4.2.2) Gold Country-Modesto-Imperial County dataset"
   ]
  },
  {
   "cell_type": "markdown",
   "metadata": {},
   "source": [
    "Determine optimal alpha value:"
   ]
  },
  {
   "cell_type": "code",
   "execution_count": 31,
   "metadata": {},
   "outputs": [],
   "source": [
    "model_finder_medium = GridSearchCV(estimator = scaled_ridge_model,\n",
    "                           param_grid = parameters_to_try,\n",
    "                           cv = 10)"
   ]
  },
  {
   "cell_type": "code",
   "execution_count": 32,
   "metadata": {},
   "outputs": [
    {
     "data": {
      "text/plain": [
       "{'ridge__alpha': 5336.699231206302}"
      ]
     },
     "execution_count": 32,
     "metadata": {},
     "output_type": "execute_result"
    }
   ],
   "source": [
    "model_finder_medium.fit(X_train_medium, y_train_medium)\n",
    "model_finder_medium.best_params_ "
   ]
  },
  {
   "cell_type": "markdown",
   "metadata": {},
   "source": [
    "Determine model coefficients"
   ]
  },
  {
   "cell_type": "code",
   "execution_count": 33,
   "metadata": {},
   "outputs": [],
   "source": [
    "scaled_ridge_alpha_medium = Pipeline([\n",
    "    ('scale', StandardScaler()),\n",
    "    ('ridge', Ridge(alpha = 5336.699231206302, random_state = 42))\n",
    "])"
   ]
  },
  {
   "cell_type": "code",
   "execution_count": 34,
   "metadata": {},
   "outputs": [
    {
     "data": {
      "text/html": [
       "<style>#sk-892b0c84-8d3a-4223-89e4-340c53827c86 {color: black;background-color: white;}#sk-892b0c84-8d3a-4223-89e4-340c53827c86 pre{padding: 0;}#sk-892b0c84-8d3a-4223-89e4-340c53827c86 div.sk-toggleable {background-color: white;}#sk-892b0c84-8d3a-4223-89e4-340c53827c86 label.sk-toggleable__label {cursor: pointer;display: block;width: 100%;margin-bottom: 0;padding: 0.3em;box-sizing: border-box;text-align: center;}#sk-892b0c84-8d3a-4223-89e4-340c53827c86 label.sk-toggleable__label-arrow:before {content: \"▸\";float: left;margin-right: 0.25em;color: #696969;}#sk-892b0c84-8d3a-4223-89e4-340c53827c86 label.sk-toggleable__label-arrow:hover:before {color: black;}#sk-892b0c84-8d3a-4223-89e4-340c53827c86 div.sk-estimator:hover label.sk-toggleable__label-arrow:before {color: black;}#sk-892b0c84-8d3a-4223-89e4-340c53827c86 div.sk-toggleable__content {max-height: 0;max-width: 0;overflow: hidden;text-align: left;background-color: #f0f8ff;}#sk-892b0c84-8d3a-4223-89e4-340c53827c86 div.sk-toggleable__content pre {margin: 0.2em;color: black;border-radius: 0.25em;background-color: #f0f8ff;}#sk-892b0c84-8d3a-4223-89e4-340c53827c86 input.sk-toggleable__control:checked~div.sk-toggleable__content {max-height: 200px;max-width: 100%;overflow: auto;}#sk-892b0c84-8d3a-4223-89e4-340c53827c86 input.sk-toggleable__control:checked~label.sk-toggleable__label-arrow:before {content: \"▾\";}#sk-892b0c84-8d3a-4223-89e4-340c53827c86 div.sk-estimator input.sk-toggleable__control:checked~label.sk-toggleable__label {background-color: #d4ebff;}#sk-892b0c84-8d3a-4223-89e4-340c53827c86 div.sk-label input.sk-toggleable__control:checked~label.sk-toggleable__label {background-color: #d4ebff;}#sk-892b0c84-8d3a-4223-89e4-340c53827c86 input.sk-hidden--visually {border: 0;clip: rect(1px 1px 1px 1px);clip: rect(1px, 1px, 1px, 1px);height: 1px;margin: -1px;overflow: hidden;padding: 0;position: absolute;width: 1px;}#sk-892b0c84-8d3a-4223-89e4-340c53827c86 div.sk-estimator {font-family: monospace;background-color: #f0f8ff;border: 1px dotted black;border-radius: 0.25em;box-sizing: border-box;margin-bottom: 0.5em;}#sk-892b0c84-8d3a-4223-89e4-340c53827c86 div.sk-estimator:hover {background-color: #d4ebff;}#sk-892b0c84-8d3a-4223-89e4-340c53827c86 div.sk-parallel-item::after {content: \"\";width: 100%;border-bottom: 1px solid gray;flex-grow: 1;}#sk-892b0c84-8d3a-4223-89e4-340c53827c86 div.sk-label:hover label.sk-toggleable__label {background-color: #d4ebff;}#sk-892b0c84-8d3a-4223-89e4-340c53827c86 div.sk-serial::before {content: \"\";position: absolute;border-left: 1px solid gray;box-sizing: border-box;top: 2em;bottom: 0;left: 50%;}#sk-892b0c84-8d3a-4223-89e4-340c53827c86 div.sk-serial {display: flex;flex-direction: column;align-items: center;background-color: white;padding-right: 0.2em;padding-left: 0.2em;}#sk-892b0c84-8d3a-4223-89e4-340c53827c86 div.sk-item {z-index: 1;}#sk-892b0c84-8d3a-4223-89e4-340c53827c86 div.sk-parallel {display: flex;align-items: stretch;justify-content: center;background-color: white;}#sk-892b0c84-8d3a-4223-89e4-340c53827c86 div.sk-parallel::before {content: \"\";position: absolute;border-left: 1px solid gray;box-sizing: border-box;top: 2em;bottom: 0;left: 50%;}#sk-892b0c84-8d3a-4223-89e4-340c53827c86 div.sk-parallel-item {display: flex;flex-direction: column;position: relative;background-color: white;}#sk-892b0c84-8d3a-4223-89e4-340c53827c86 div.sk-parallel-item:first-child::after {align-self: flex-end;width: 50%;}#sk-892b0c84-8d3a-4223-89e4-340c53827c86 div.sk-parallel-item:last-child::after {align-self: flex-start;width: 50%;}#sk-892b0c84-8d3a-4223-89e4-340c53827c86 div.sk-parallel-item:only-child::after {width: 0;}#sk-892b0c84-8d3a-4223-89e4-340c53827c86 div.sk-dashed-wrapped {border: 1px dashed gray;margin: 0 0.4em 0.5em 0.4em;box-sizing: border-box;padding-bottom: 0.4em;background-color: white;position: relative;}#sk-892b0c84-8d3a-4223-89e4-340c53827c86 div.sk-label label {font-family: monospace;font-weight: bold;background-color: white;display: inline-block;line-height: 1.2em;}#sk-892b0c84-8d3a-4223-89e4-340c53827c86 div.sk-label-container {position: relative;z-index: 2;text-align: center;}#sk-892b0c84-8d3a-4223-89e4-340c53827c86 div.sk-container {/* jupyter's `normalize.less` sets `[hidden] { display: none; }` but bootstrap.min.css set `[hidden] { display: none !important; }` so we also need the `!important` here to be able to override the default hidden behavior on the sphinx rendered scikit-learn.org. See: https://github.com/scikit-learn/scikit-learn/issues/21755 */display: inline-block !important;position: relative;}#sk-892b0c84-8d3a-4223-89e4-340c53827c86 div.sk-text-repr-fallback {display: none;}</style><div id=\"sk-892b0c84-8d3a-4223-89e4-340c53827c86\" class=\"sk-top-container\"><div class=\"sk-text-repr-fallback\"><pre>Pipeline(steps=[(&#x27;scale&#x27;, StandardScaler()),\n",
       "                (&#x27;ridge&#x27;, Ridge(alpha=5336.699231206302, random_state=42))])</pre><b>Please rerun this cell to show the HTML repr or trust the notebook.</b></div><div class=\"sk-container\" hidden><div class=\"sk-item sk-dashed-wrapped\"><div class=\"sk-label-container\"><div class=\"sk-label sk-toggleable\"><input class=\"sk-toggleable__control sk-hidden--visually\" id=\"fc5481d6-ed32-4fcd-9456-9bf30c20d437\" type=\"checkbox\" ><label for=\"fc5481d6-ed32-4fcd-9456-9bf30c20d437\" class=\"sk-toggleable__label sk-toggleable__label-arrow\">Pipeline</label><div class=\"sk-toggleable__content\"><pre>Pipeline(steps=[(&#x27;scale&#x27;, StandardScaler()),\n",
       "                (&#x27;ridge&#x27;, Ridge(alpha=5336.699231206302, random_state=42))])</pre></div></div></div><div class=\"sk-serial\"><div class=\"sk-item\"><div class=\"sk-estimator sk-toggleable\"><input class=\"sk-toggleable__control sk-hidden--visually\" id=\"e5005f34-5e1d-4cca-a338-1bdf06435faf\" type=\"checkbox\" ><label for=\"e5005f34-5e1d-4cca-a338-1bdf06435faf\" class=\"sk-toggleable__label sk-toggleable__label-arrow\">StandardScaler</label><div class=\"sk-toggleable__content\"><pre>StandardScaler()</pre></div></div></div><div class=\"sk-item\"><div class=\"sk-estimator sk-toggleable\"><input class=\"sk-toggleable__control sk-hidden--visually\" id=\"0bdcab59-a437-4780-8246-154dfb9f7335\" type=\"checkbox\" ><label for=\"0bdcab59-a437-4780-8246-154dfb9f7335\" class=\"sk-toggleable__label sk-toggleable__label-arrow\">Ridge</label><div class=\"sk-toggleable__content\"><pre>Ridge(alpha=5336.699231206302, random_state=42)</pre></div></div></div></div></div></div></div>"
      ],
      "text/plain": [
       "Pipeline(steps=[('scale', StandardScaler()),\n",
       "                ('ridge', Ridge(alpha=5336.699231206302, random_state=42))])"
      ]
     },
     "execution_count": 34,
     "metadata": {},
     "output_type": "execute_result"
    }
   ],
   "source": [
    "scaled_ridge_alpha_medium.fit(X_train_medium, y_train_medium)"
   ]
  },
  {
   "cell_type": "code",
   "execution_count": 35,
   "metadata": {},
   "outputs": [
    {
     "data": {
      "text/html": [
       "<div>\n",
       "<style scoped>\n",
       "    .dataframe tbody tr th:only-of-type {\n",
       "        vertical-align: middle;\n",
       "    }\n",
       "\n",
       "    .dataframe tbody tr th {\n",
       "        vertical-align: top;\n",
       "    }\n",
       "\n",
       "    .dataframe thead th {\n",
       "        text-align: right;\n",
       "    }\n",
       "</style>\n",
       "<table border=\"1\" class=\"dataframe\">\n",
       "  <thead>\n",
       "    <tr style=\"text-align: right;\">\n",
       "      <th></th>\n",
       "      <th>coefficients</th>\n",
       "    </tr>\n",
       "  </thead>\n",
       "  <tbody>\n",
       "    <tr>\n",
       "      <th>odometer</th>\n",
       "      <td>-53.058436</td>\n",
       "    </tr>\n",
       "    <tr>\n",
       "      <th>title_status_rank</th>\n",
       "      <td>72.145281</td>\n",
       "    </tr>\n",
       "    <tr>\n",
       "      <th>paint_color</th>\n",
       "      <td>141.399777</td>\n",
       "    </tr>\n",
       "    <tr>\n",
       "      <th>condition_rank</th>\n",
       "      <td>158.252054</td>\n",
       "    </tr>\n",
       "    <tr>\n",
       "      <th>fuel</th>\n",
       "      <td>183.477209</td>\n",
       "    </tr>\n",
       "    <tr>\n",
       "      <th>cylinders</th>\n",
       "      <td>232.258400</td>\n",
       "    </tr>\n",
       "    <tr>\n",
       "      <th>drive</th>\n",
       "      <td>255.182694</td>\n",
       "    </tr>\n",
       "    <tr>\n",
       "      <th>manufacturer</th>\n",
       "      <td>261.394523</td>\n",
       "    </tr>\n",
       "    <tr>\n",
       "      <th>year</th>\n",
       "      <td>295.770777</td>\n",
       "    </tr>\n",
       "    <tr>\n",
       "      <th>type</th>\n",
       "      <td>313.308375</td>\n",
       "    </tr>\n",
       "    <tr>\n",
       "      <th>transmission</th>\n",
       "      <td>427.960771</td>\n",
       "    </tr>\n",
       "    <tr>\n",
       "      <th>model</th>\n",
       "      <td>446.825584</td>\n",
       "    </tr>\n",
       "  </tbody>\n",
       "</table>\n",
       "</div>"
      ],
      "text/plain": [
       "                   coefficients\n",
       "odometer             -53.058436\n",
       "title_status_rank     72.145281\n",
       "paint_color          141.399777\n",
       "condition_rank       158.252054\n",
       "fuel                 183.477209\n",
       "cylinders            232.258400\n",
       "drive                255.182694\n",
       "manufacturer         261.394523\n",
       "year                 295.770777\n",
       "type                 313.308375\n",
       "transmission         427.960771\n",
       "model                446.825584"
      ]
     },
     "execution_count": 35,
     "metadata": {},
     "output_type": "execute_result"
    }
   ],
   "source": [
    "feature_names_medium = scaled_ridge_alpha_medium[:-1].get_feature_names_out()\n",
    "\n",
    "coefs_medium = pd.DataFrame(\n",
    "    scaled_ridge_alpha_medium[-1].coef_,\n",
    "    columns = [\"coefficients\"],\n",
    "    index = feature_names_medium\n",
    ")\n",
    "\n",
    "coefs_medium.sort_values('coefficients')"
   ]
  },
  {
   "cell_type": "markdown",
   "metadata": {},
   "source": [
    "Evaluation metric: **MSE**"
   ]
  },
  {
   "cell_type": "code",
   "execution_count": 36,
   "metadata": {},
   "outputs": [
    {
     "name": "stdout",
     "output_type": "stream",
     "text": [
      "training mse:  104326357.72911628\n",
      "test mse:  166772605.3119569\n"
     ]
    }
   ],
   "source": [
    "# Training mse\n",
    "train_mse_medium = mean_squared_error(y_train_medium, scaled_ridge_alpha_medium.predict(X_train_medium))\n",
    "\n",
    "# Test mse\n",
    "test_mse_medium = mean_squared_error(y_test_medium, scaled_ridge_alpha_medium.predict(X_test_medium))\n",
    "\n",
    "print('training mse: ', train_mse_medium)\n",
    "print('test mse: ', test_mse_medium)"
   ]
  },
  {
   "cell_type": "markdown",
   "metadata": {},
   "source": [
    "#### 4.2.3) San Luis Obispo-Monterey Bay-Siskiyou County dataset"
   ]
  },
  {
   "cell_type": "markdown",
   "metadata": {},
   "source": [
    "Determine optimal alpha value"
   ]
  },
  {
   "cell_type": "code",
   "execution_count": 37,
   "metadata": {},
   "outputs": [],
   "source": [
    "model_finder_low = GridSearchCV(estimator = scaled_ridge_model,\n",
    "                           param_grid = parameters_to_try,\n",
    "                           cv = 10)"
   ]
  },
  {
   "cell_type": "code",
   "execution_count": 38,
   "metadata": {},
   "outputs": [
    {
     "data": {
      "text/plain": [
       "{'ridge__alpha': 100.0}"
      ]
     },
     "execution_count": 38,
     "metadata": {},
     "output_type": "execute_result"
    }
   ],
   "source": [
    "model_finder_low.fit(X_train_low, y_train_low)\n",
    "model_finder_low.best_params_ "
   ]
  },
  {
   "cell_type": "markdown",
   "metadata": {},
   "source": [
    "Determine model coefficients"
   ]
  },
  {
   "cell_type": "code",
   "execution_count": 39,
   "metadata": {},
   "outputs": [],
   "source": [
    "scaled_ridge_alpha_low = Pipeline([\n",
    "    ('scale', StandardScaler()),\n",
    "    ('ridge', Ridge(alpha = 100.0, random_state = 42))\n",
    "])"
   ]
  },
  {
   "cell_type": "code",
   "execution_count": 40,
   "metadata": {},
   "outputs": [
    {
     "data": {
      "text/html": [
       "<style>#sk-b142a666-2124-41fe-8469-24934b0431ac {color: black;background-color: white;}#sk-b142a666-2124-41fe-8469-24934b0431ac pre{padding: 0;}#sk-b142a666-2124-41fe-8469-24934b0431ac div.sk-toggleable {background-color: white;}#sk-b142a666-2124-41fe-8469-24934b0431ac label.sk-toggleable__label {cursor: pointer;display: block;width: 100%;margin-bottom: 0;padding: 0.3em;box-sizing: border-box;text-align: center;}#sk-b142a666-2124-41fe-8469-24934b0431ac label.sk-toggleable__label-arrow:before {content: \"▸\";float: left;margin-right: 0.25em;color: #696969;}#sk-b142a666-2124-41fe-8469-24934b0431ac label.sk-toggleable__label-arrow:hover:before {color: black;}#sk-b142a666-2124-41fe-8469-24934b0431ac div.sk-estimator:hover label.sk-toggleable__label-arrow:before {color: black;}#sk-b142a666-2124-41fe-8469-24934b0431ac div.sk-toggleable__content {max-height: 0;max-width: 0;overflow: hidden;text-align: left;background-color: #f0f8ff;}#sk-b142a666-2124-41fe-8469-24934b0431ac div.sk-toggleable__content pre {margin: 0.2em;color: black;border-radius: 0.25em;background-color: #f0f8ff;}#sk-b142a666-2124-41fe-8469-24934b0431ac input.sk-toggleable__control:checked~div.sk-toggleable__content {max-height: 200px;max-width: 100%;overflow: auto;}#sk-b142a666-2124-41fe-8469-24934b0431ac input.sk-toggleable__control:checked~label.sk-toggleable__label-arrow:before {content: \"▾\";}#sk-b142a666-2124-41fe-8469-24934b0431ac div.sk-estimator input.sk-toggleable__control:checked~label.sk-toggleable__label {background-color: #d4ebff;}#sk-b142a666-2124-41fe-8469-24934b0431ac div.sk-label input.sk-toggleable__control:checked~label.sk-toggleable__label {background-color: #d4ebff;}#sk-b142a666-2124-41fe-8469-24934b0431ac input.sk-hidden--visually {border: 0;clip: rect(1px 1px 1px 1px);clip: rect(1px, 1px, 1px, 1px);height: 1px;margin: -1px;overflow: hidden;padding: 0;position: absolute;width: 1px;}#sk-b142a666-2124-41fe-8469-24934b0431ac div.sk-estimator {font-family: monospace;background-color: #f0f8ff;border: 1px dotted black;border-radius: 0.25em;box-sizing: border-box;margin-bottom: 0.5em;}#sk-b142a666-2124-41fe-8469-24934b0431ac div.sk-estimator:hover {background-color: #d4ebff;}#sk-b142a666-2124-41fe-8469-24934b0431ac div.sk-parallel-item::after {content: \"\";width: 100%;border-bottom: 1px solid gray;flex-grow: 1;}#sk-b142a666-2124-41fe-8469-24934b0431ac div.sk-label:hover label.sk-toggleable__label {background-color: #d4ebff;}#sk-b142a666-2124-41fe-8469-24934b0431ac div.sk-serial::before {content: \"\";position: absolute;border-left: 1px solid gray;box-sizing: border-box;top: 2em;bottom: 0;left: 50%;}#sk-b142a666-2124-41fe-8469-24934b0431ac div.sk-serial {display: flex;flex-direction: column;align-items: center;background-color: white;padding-right: 0.2em;padding-left: 0.2em;}#sk-b142a666-2124-41fe-8469-24934b0431ac div.sk-item {z-index: 1;}#sk-b142a666-2124-41fe-8469-24934b0431ac div.sk-parallel {display: flex;align-items: stretch;justify-content: center;background-color: white;}#sk-b142a666-2124-41fe-8469-24934b0431ac div.sk-parallel::before {content: \"\";position: absolute;border-left: 1px solid gray;box-sizing: border-box;top: 2em;bottom: 0;left: 50%;}#sk-b142a666-2124-41fe-8469-24934b0431ac div.sk-parallel-item {display: flex;flex-direction: column;position: relative;background-color: white;}#sk-b142a666-2124-41fe-8469-24934b0431ac div.sk-parallel-item:first-child::after {align-self: flex-end;width: 50%;}#sk-b142a666-2124-41fe-8469-24934b0431ac div.sk-parallel-item:last-child::after {align-self: flex-start;width: 50%;}#sk-b142a666-2124-41fe-8469-24934b0431ac div.sk-parallel-item:only-child::after {width: 0;}#sk-b142a666-2124-41fe-8469-24934b0431ac div.sk-dashed-wrapped {border: 1px dashed gray;margin: 0 0.4em 0.5em 0.4em;box-sizing: border-box;padding-bottom: 0.4em;background-color: white;position: relative;}#sk-b142a666-2124-41fe-8469-24934b0431ac div.sk-label label {font-family: monospace;font-weight: bold;background-color: white;display: inline-block;line-height: 1.2em;}#sk-b142a666-2124-41fe-8469-24934b0431ac div.sk-label-container {position: relative;z-index: 2;text-align: center;}#sk-b142a666-2124-41fe-8469-24934b0431ac div.sk-container {/* jupyter's `normalize.less` sets `[hidden] { display: none; }` but bootstrap.min.css set `[hidden] { display: none !important; }` so we also need the `!important` here to be able to override the default hidden behavior on the sphinx rendered scikit-learn.org. See: https://github.com/scikit-learn/scikit-learn/issues/21755 */display: inline-block !important;position: relative;}#sk-b142a666-2124-41fe-8469-24934b0431ac div.sk-text-repr-fallback {display: none;}</style><div id=\"sk-b142a666-2124-41fe-8469-24934b0431ac\" class=\"sk-top-container\"><div class=\"sk-text-repr-fallback\"><pre>Pipeline(steps=[(&#x27;scale&#x27;, StandardScaler()),\n",
       "                (&#x27;ridge&#x27;, Ridge(alpha=100.0, random_state=42))])</pre><b>Please rerun this cell to show the HTML repr or trust the notebook.</b></div><div class=\"sk-container\" hidden><div class=\"sk-item sk-dashed-wrapped\"><div class=\"sk-label-container\"><div class=\"sk-label sk-toggleable\"><input class=\"sk-toggleable__control sk-hidden--visually\" id=\"53ab12ff-a692-4829-a288-1bbfc6d60b6d\" type=\"checkbox\" ><label for=\"53ab12ff-a692-4829-a288-1bbfc6d60b6d\" class=\"sk-toggleable__label sk-toggleable__label-arrow\">Pipeline</label><div class=\"sk-toggleable__content\"><pre>Pipeline(steps=[(&#x27;scale&#x27;, StandardScaler()),\n",
       "                (&#x27;ridge&#x27;, Ridge(alpha=100.0, random_state=42))])</pre></div></div></div><div class=\"sk-serial\"><div class=\"sk-item\"><div class=\"sk-estimator sk-toggleable\"><input class=\"sk-toggleable__control sk-hidden--visually\" id=\"acf1bb3c-2ca8-4c99-975d-1448613c8530\" type=\"checkbox\" ><label for=\"acf1bb3c-2ca8-4c99-975d-1448613c8530\" class=\"sk-toggleable__label sk-toggleable__label-arrow\">StandardScaler</label><div class=\"sk-toggleable__content\"><pre>StandardScaler()</pre></div></div></div><div class=\"sk-item\"><div class=\"sk-estimator sk-toggleable\"><input class=\"sk-toggleable__control sk-hidden--visually\" id=\"77b3a77c-dfe4-4263-a658-89d57892c8de\" type=\"checkbox\" ><label for=\"77b3a77c-dfe4-4263-a658-89d57892c8de\" class=\"sk-toggleable__label sk-toggleable__label-arrow\">Ridge</label><div class=\"sk-toggleable__content\"><pre>Ridge(alpha=100.0, random_state=42)</pre></div></div></div></div></div></div></div>"
      ],
      "text/plain": [
       "Pipeline(steps=[('scale', StandardScaler()),\n",
       "                ('ridge', Ridge(alpha=100.0, random_state=42))])"
      ]
     },
     "execution_count": 40,
     "metadata": {},
     "output_type": "execute_result"
    }
   ],
   "source": [
    "scaled_ridge_alpha_low.fit(X_train_low, y_train_low)"
   ]
  },
  {
   "cell_type": "code",
   "execution_count": 41,
   "metadata": {},
   "outputs": [
    {
     "data": {
      "text/html": [
       "<div>\n",
       "<style scoped>\n",
       "    .dataframe tbody tr th:only-of-type {\n",
       "        vertical-align: middle;\n",
       "    }\n",
       "\n",
       "    .dataframe tbody tr th {\n",
       "        vertical-align: top;\n",
       "    }\n",
       "\n",
       "    .dataframe thead th {\n",
       "        text-align: right;\n",
       "    }\n",
       "</style>\n",
       "<table border=\"1\" class=\"dataframe\">\n",
       "  <thead>\n",
       "    <tr style=\"text-align: right;\">\n",
       "      <th></th>\n",
       "      <th>coefficients</th>\n",
       "    </tr>\n",
       "  </thead>\n",
       "  <tbody>\n",
       "    <tr>\n",
       "      <th>odometer</th>\n",
       "      <td>-4675.988853</td>\n",
       "    </tr>\n",
       "    <tr>\n",
       "      <th>paint_color</th>\n",
       "      <td>133.925934</td>\n",
       "    </tr>\n",
       "    <tr>\n",
       "      <th>title_status_rank</th>\n",
       "      <td>288.223584</td>\n",
       "    </tr>\n",
       "    <tr>\n",
       "      <th>transmission</th>\n",
       "      <td>885.999041</td>\n",
       "    </tr>\n",
       "    <tr>\n",
       "      <th>type</th>\n",
       "      <td>961.176384</td>\n",
       "    </tr>\n",
       "    <tr>\n",
       "      <th>condition_rank</th>\n",
       "      <td>1195.590738</td>\n",
       "    </tr>\n",
       "    <tr>\n",
       "      <th>manufacturer</th>\n",
       "      <td>1217.981887</td>\n",
       "    </tr>\n",
       "    <tr>\n",
       "      <th>cylinders</th>\n",
       "      <td>1731.575939</td>\n",
       "    </tr>\n",
       "    <tr>\n",
       "      <th>fuel</th>\n",
       "      <td>1776.411718</td>\n",
       "    </tr>\n",
       "    <tr>\n",
       "      <th>drive</th>\n",
       "      <td>1932.020100</td>\n",
       "    </tr>\n",
       "    <tr>\n",
       "      <th>model</th>\n",
       "      <td>2757.096307</td>\n",
       "    </tr>\n",
       "    <tr>\n",
       "      <th>year</th>\n",
       "      <td>2994.365557</td>\n",
       "    </tr>\n",
       "  </tbody>\n",
       "</table>\n",
       "</div>"
      ],
      "text/plain": [
       "                   coefficients\n",
       "odometer           -4675.988853\n",
       "paint_color          133.925934\n",
       "title_status_rank    288.223584\n",
       "transmission         885.999041\n",
       "type                 961.176384\n",
       "condition_rank      1195.590738\n",
       "manufacturer        1217.981887\n",
       "cylinders           1731.575939\n",
       "fuel                1776.411718\n",
       "drive               1932.020100\n",
       "model               2757.096307\n",
       "year                2994.365557"
      ]
     },
     "execution_count": 41,
     "metadata": {},
     "output_type": "execute_result"
    }
   ],
   "source": [
    "feature_names_low = scaled_ridge_alpha_low[:-1].get_feature_names_out()\n",
    "\n",
    "coefs_low = pd.DataFrame(\n",
    "    scaled_ridge_alpha_low[-1].coef_,\n",
    "    columns = [\"coefficients\"],\n",
    "    index = feature_names_low\n",
    ")\n",
    "\n",
    "coefs_low.sort_values('coefficients')"
   ]
  },
  {
   "cell_type": "markdown",
   "metadata": {},
   "source": [
    "Evaluation metric: **MSE**"
   ]
  },
  {
   "cell_type": "code",
   "execution_count": 42,
   "metadata": {},
   "outputs": [
    {
     "name": "stdout",
     "output_type": "stream",
     "text": [
      "training mse:  93797241.98358962\n",
      "test mse:  87587413.75037856\n"
     ]
    }
   ],
   "source": [
    "# Training mse\n",
    "train_mse_low = mean_squared_error(y_train_low, scaled_ridge_alpha_low.predict(X_train_low))\n",
    "\n",
    "# Test mse\n",
    "test_mse_low = mean_squared_error(y_test_low, scaled_ridge_alpha_low.predict(X_test_low))\n",
    "\n",
    "print('training mse: ', train_mse_low)\n",
    "print('test mse: ', test_mse_low)"
   ]
  },
  {
   "cell_type": "markdown",
   "metadata": {},
   "source": [
    "### 5) Evaluation\n",
    "\n",
    "**With some modeling accomplished, we aim to reflect on what we identify as a high quality model and what we are able to learn from this.  We should review our business objective and explore how well we can provide meaningful insight on drivers of used car prices.  Your goal now is to distill your findings and determine whether the earlier phases need revisitation and adjustment or if you have information of value to bring back to your client.**"
   ]
  },
  {
   "cell_type": "markdown",
   "metadata": {},
   "source": [
    "Recall that our **business objective** is to determine a used car's selling price based off of certain features of the car including: year, manufacturer, model, cylinders, fuel type, transmission, drive, car type, paint color, condition, title status, state/region car is issued in.\n",
    "\n",
    "\n",
    "From section 3.2, I noticed that accounting all car data entries from different regions and states may not result in the best model since different states/regions have different guidelines for how to price a used car. Hence, there is minimal correlation between the considered car features and price.\n",
    "\n",
    "\n",
    "The difference between the training mse and the test mse is the smallest for Region III dataset (made up of data from regions with lower populations) and the largest difference in mse's is seen for Region II dataset (made up of data from regions with medium populations). This shows that the price of a used car from different regions within the same state (CA) may not be dependent on the same features. In this case, the price of a used car is more correlated with the current dataset features when the car is being sold in more low-populated regions, not medium or higher populated regions. Information of other car features may need to be gathered for better correlation between price and features in higher populated regions.\n",
    "\n",
    "\n",
    "In fact, in the SF bay area, the top five features with the highest coefficients in magnitude are: odometer, drive, fuel, year, and condition.\n",
    "\n",
    "\n",
    "In the Gold Country-Modesto-Imperial County region, the top five features are: model, transmission, type, year, and manufacturer.\n",
    "\n",
    "\n",
    "In the San Luis Obispo-Monterey Bay-Imperial County region, the top five features are: odometer, year, model, drive, fuel.\n",
    "\n",
    "\n",
    "It is important to note that odometer is inversely correlated with price, meaning that as the odometer reading increases, the price of the used car decreases. "
   ]
  },
  {
   "cell_type": "markdown",
   "metadata": {},
   "source": [
    "### 6) Deployment\n",
    "\n",
    "Now that we've settled on our models and findings, it is time to deliver the information to the client.  You should organize your work as a basic report that details your primary findings.  Keep in mind that your audience is a group of used car dealers interested in fine tuning their inventory."
   ]
  },
  {
   "cell_type": "markdown",
   "metadata": {},
   "source": [
    "To determine a used car's sale price, it is important to first note the region/state the car is from. Below, I will use different regions of CA as an example:\n",
    "\n",
    "\n",
    "If the car is from a populated area like SF bay area,CA, then a high odometer reading will decrease the price of the used car but features that would maximize the price of a used car are when:\n",
    "- drive = 4wd\n",
    "- fuel = diesel\n",
    "- year = 2021\n",
    "- condition = new\n",
    "\n",
    "\n",
    "If the car is from a medium populated area like Gold Country-Modesto-Imperial County, CA, then the car's model, transmission, type, year, and manufacturer become important factors in determining a used car's price. A used car's price can be maximized if:\n",
    "- the transmission is neither automatic nor manual\n",
    "- year = 2021\n",
    "- type = other\n",
    "- manufacturer = Porsche\n",
    "- model = el camino\n",
    "\n",
    "\n",
    "If the car is from a low populated area like San Luis Obispo-Monterey Bay-Siskiyou County, CA, then a high odometer reading will decrease the price of the used car but features that would increase the price of the car is if:\n",
    "- year = 2021\n",
    "- model = Benz\n",
    "- drive = 4wd\n",
    "- fuel = other\n",
    "\n",
    "\n",
    "From the above information, one can see that the number one most important feature to consider, no matter which region/state the car is sold in, is the year of the car. Additionally, price is more correlated to the dataset features in the low-populated dataset than in the medium/higher populated dataset. **Therefore, to improve the model for used-car price prediction in more populated regions, I recommend to gather information of other car features, specifically features that are valued more by residents of higher populated regions.**"
   ]
  },
  {
   "cell_type": "code",
   "execution_count": null,
   "metadata": {},
   "outputs": [],
   "source": []
  }
 ],
 "metadata": {
  "kernelspec": {
   "display_name": "Python 3 (ipykernel)",
   "language": "python",
   "name": "python3"
  },
  "language_info": {
   "codemirror_mode": {
    "name": "ipython",
    "version": 3
   },
   "file_extension": ".py",
   "mimetype": "text/x-python",
   "name": "python",
   "nbconvert_exporter": "python",
   "pygments_lexer": "ipython3",
   "version": "3.9.12"
  },
  "widgets": {
   "application/vnd.jupyter.widget-state+json": {
    "state": {},
    "version_major": 2,
    "version_minor": 0
   }
  }
 },
 "nbformat": 4,
 "nbformat_minor": 4
}
